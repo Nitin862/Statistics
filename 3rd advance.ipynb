{
 "cells": [
  {
   "cell_type": "code",
   "execution_count": 1,
   "id": "3de91737-e82a-4008-9258-98b1ee0b1b66",
   "metadata": {},
   "outputs": [
    {
     "data": {
      "text/plain": [
       "'Q1: What is Estimation Statistics? Explain point estimate and interval estimate.'"
      ]
     },
     "execution_count": 1,
     "metadata": {},
     "output_type": "execute_result"
    }
   ],
   "source": [
    "'''Q1: What is Estimation Statistics? Explain point estimate and interval estimate.'''"
   ]
  },
  {
   "cell_type": "code",
   "execution_count": 2,
   "id": "e9198b3a-64ee-4eec-9dd0-d3c498ac20b3",
   "metadata": {},
   "outputs": [
    {
     "data": {
      "text/plain": [
       "'estimation in statistics is useful in pointing out neccessary parameter in population data using sample poplation data.\\npoint estimate: Single numerical value used to estimate the unknown population parameter.\\nExample we can estimate the population mean using sample mean.\\nInterval estimate: Range of values used to estimate the unknown population parametres.\\nIntervl estimate of population parameter is called confidence intervals.'"
      ]
     },
     "execution_count": 2,
     "metadata": {},
     "output_type": "execute_result"
    }
   ],
   "source": [
    "'''estimation in statistics is useful in pointing out neccessary parameter in population data using sample poplation data.\n",
    "point estimate: Single numerical value used to estimate the unknown population parameter.\n",
    "Example we can estimate the population mean using sample mean.\n",
    "Interval estimate: Range of values used to estimate the unknown population parametres.\n",
    "Intervl estimate of population parameter is called confidence intervals.'''\n"
   ]
  },
  {
   "cell_type": "code",
   "execution_count": 3,
   "id": "006ba66b-b6b2-4ae5-a130-0105174add00",
   "metadata": {},
   "outputs": [
    {
     "data": {
      "text/plain": [
       "'Q2. Write a Python function to estimate the population mean using a sample mean and standard\\ndeviation.'"
      ]
     },
     "execution_count": 3,
     "metadata": {},
     "output_type": "execute_result"
    }
   ],
   "source": [
    "'''Q2. Write a Python function to estimate the population mean using a sample mean and standard\n",
    "deviation.'''"
   ]
  },
  {
   "cell_type": "code",
   "execution_count": 16,
   "id": "0c5cbaae-d365-4def-bc1a-051e4343ab00",
   "metadata": {},
   "outputs": [],
   "source": [
    "def pop_mean():\n",
    "    import numpy as np\n",
    "    l=[23,34,56,34,21,29,36]\n",
    "    l2=np.mean(l)\n",
    "    population_mean=l2\n",
    "    return population_mean\n",
    "    "
   ]
  },
  {
   "cell_type": "code",
   "execution_count": 17,
   "id": "362e7b00-b92f-4ebd-9512-3006e724d4dd",
   "metadata": {},
   "outputs": [
    {
     "data": {
      "text/plain": [
       "33.285714285714285"
      ]
     },
     "execution_count": 17,
     "metadata": {},
     "output_type": "execute_result"
    }
   ],
   "source": [
    "pop_mean()"
   ]
  },
  {
   "cell_type": "code",
   "execution_count": 18,
   "id": "a877f384-e12b-48ed-9c72-656bdbd653f0",
   "metadata": {},
   "outputs": [
    {
     "data": {
      "text/plain": [
       "'Q3: What is Hypothesis testing? Why is it used? State the importance of Hypothesis testing.'"
      ]
     },
     "execution_count": 18,
     "metadata": {},
     "output_type": "execute_result"
    }
   ],
   "source": [
    "'''Q3: What is Hypothesis testing? Why is it used? State the importance of Hypothesis testing.'''"
   ]
  },
  {
   "cell_type": "code",
   "execution_count": 19,
   "id": "ab5a4084-90f9-4789-b66d-566d0da320e9",
   "metadata": {},
   "outputs": [
    {
     "data": {
      "text/plain": [
       "'Hypothesis testing is a statistical method used to make inferences about a population parameter based on sample data.\\nIt involves assessing two competing hypotheses: the null hypothesis (denoted as H0) and Alternate hypothesis H1.\\nImportance of hypothesis testing \\nStatistical Inference: It allows researchers to make conclusions or inferences about a population based on sample data.\\nScientific Decision Making: Helps in making decisions and drawing conclusions in scientific research, experiments, and business scenarios.\\nValidation of Theories: Validates or rejects existing theories or hypotheses by providing evidence from data.\\nControl and Quality Assurance: Used in quality control processes to ensure products meet specified standards.\\nQuantifying Uncertainty: Provides a framework to quantify uncertainty and measure the strength of evidence against the null hypothesis.'"
      ]
     },
     "execution_count": 19,
     "metadata": {},
     "output_type": "execute_result"
    }
   ],
   "source": [
    "'''Hypothesis testing is a statistical method used to make inferences about a population parameter based on sample data.\n",
    "It involves assessing two competing hypotheses: the null hypothesis (denoted as H0) and Alternate hypothesis H1.\n",
    "Importance of hypothesis testing \n",
    "Statistical Inference: It allows researchers to make conclusions or inferences about a population based on sample data.\n",
    "Scientific Decision Making: Helps in making decisions and drawing conclusions in scientific research, experiments, and business scenarios.\n",
    "Validation of Theories: Validates or rejects existing theories or hypotheses by providing evidence from data.\n",
    "Control and Quality Assurance: Used in quality control processes to ensure products meet specified standards.\n",
    "Quantifying Uncertainty: Provides a framework to quantify uncertainty and measure the strength of evidence against the null hypothesis.'''\n"
   ]
  },
  {
   "cell_type": "code",
   "execution_count": 20,
   "id": "7cd601f2-6326-474b-b7b9-e5745046b856",
   "metadata": {},
   "outputs": [
    {
     "data": {
      "text/plain": [
       "'Q4. Create a hypothesis that states whether the average weight of male college students is greater than\\nthe average weight of female college students.'"
      ]
     },
     "execution_count": 20,
     "metadata": {},
     "output_type": "execute_result"
    }
   ],
   "source": [
    "'''Q4. Create a hypothesis that states whether the average weight of male college students is greater than\n",
    "the average weight of female college students.'''"
   ]
  },
  {
   "cell_type": "code",
   "execution_count": 21,
   "id": "1b88a771-f5bf-4d9d-9405-bab2018d0be3",
   "metadata": {},
   "outputs": [
    {
     "data": {
      "text/plain": [
       "'Null hypothesis : Let the average weight of male college students is not greater than\\nthe average weight of female college students.\\nAlternate hypothesis: the average weight of male college students is greater than\\nthe average weight of female college students.\\nBased on the type of test we will perform on the data we will draw the conclusion from the test whether to accept the null hypothesis or we are\\nfail to accept the null hypothesis'"
      ]
     },
     "execution_count": 21,
     "metadata": {},
     "output_type": "execute_result"
    }
   ],
   "source": [
    "'''Null hypothesis : Let the average weight of male college students is not greater than\n",
    "the average weight of female college students.\n",
    "Alternate hypothesis: the average weight of male college students is greater than\n",
    "the average weight of female college students.\n",
    "Based on the type of test we will perform on the data we will draw the conclusion from the test whether to accept the null hypothesis or we are\n",
    "fail to accept the null hypothesis'''"
   ]
  },
  {
   "cell_type": "code",
   "execution_count": 22,
   "id": "c86a2a09-0c7f-4fa2-aefd-8b509df0648d",
   "metadata": {},
   "outputs": [
    {
     "data": {
      "text/plain": [
       "'Q5. Write a Python script to conduct a hypothesis test on the difference between two population means,\\ngiven a sample from each population.'"
      ]
     },
     "execution_count": 22,
     "metadata": {},
     "output_type": "execute_result"
    }
   ],
   "source": [
    "'''Q5. Write a Python script to conduct a hypothesis test on the difference between two population means,\n",
    "given a sample from each population.'''"
   ]
  },
  {
   "cell_type": "code",
   "execution_count": 23,
   "id": "5ecabcfa-64b6-4cf4-bec2-8f24d51f492c",
   "metadata": {},
   "outputs": [
    {
     "name": "stdout",
     "output_type": "stream",
     "text": [
      "T-Statistic: 0.5741692517632145\n",
      "P-Value: 0.5816333668955778\n",
      "Fail to reject the null hypothesis: There is no significant difference between the population means.\n"
     ]
    }
   ],
   "source": [
    "from scipy import stats\n",
    "\n",
    "# Example data for two samples (replace these with your own data)\n",
    "sample1 = [25, 30, 35, 40, 45]\n",
    "sample2 = [20, 28, 32, 38, 42]\n",
    "\n",
    "# Perform independent t-test assuming equal variances\n",
    "t_statistic, p_value = stats.ttest_ind(sample1, sample2)\n",
    "\n",
    "# Define significance level (alpha)\n",
    "alpha = 0.05\n",
    "\n",
    "# Print the results\n",
    "print(f\"T-Statistic: {t_statistic}\")\n",
    "print(f\"P-Value: {p_value}\")\n",
    "\n",
    "if p_value < alpha:\n",
    "    print(\"Reject the null hypothesis: There is a significant difference between the population means.\")\n",
    "else:\n",
    "    print(\"Fail to reject the null hypothesis: There is no significant difference between the population means.\")\n"
   ]
  },
  {
   "cell_type": "code",
   "execution_count": 24,
   "id": "b12f7d1a-6235-43bf-b230-3ed6fc19b95c",
   "metadata": {},
   "outputs": [
    {
     "data": {
      "text/plain": [
       "'Q6: What is a null and alternative hypothesis? Give some examples.'"
      ]
     },
     "execution_count": 24,
     "metadata": {},
     "output_type": "execute_result"
    }
   ],
   "source": [
    "'''Q6: What is a null and alternative hypothesis? Give some examples.'''"
   ]
  },
  {
   "cell_type": "code",
   "execution_count": 25,
   "id": "b26ff581-7b12-445e-85c2-0b8b91a082a1",
   "metadata": {},
   "outputs": [
    {
     "data": {
      "text/plain": [
       "'Null hypothesis : Let the average weight of male college students is not greater than\\nthe average weight of female college students.\\nAlternate hypothesis: the average weight of male college students is greater than\\nthe average weight of female college students.\\nBased on the type of test we will perform on the data we will draw the conclusion from the test whether to accept the null hypothesis or we are\\nfail to accept the null hypothesis.\\nExample: Null hypothesis : A person is not guilty in crime.\\n                           Mango is not better than Apple\\n        Alternate hypothesis:  A person is guilty in crime.\\n                           Mango is  better than Apple. '"
      ]
     },
     "execution_count": 25,
     "metadata": {},
     "output_type": "execute_result"
    }
   ],
   "source": [
    "'''Null hypothesis : Let the average weight of male college students is not greater than\n",
    "the average weight of female college students.\n",
    "Alternate hypothesis: the average weight of male college students is greater than\n",
    "the average weight of female college students.\n",
    "Based on the type of test we will perform on the data we will draw the conclusion from the test whether to accept the null hypothesis or we are\n",
    "fail to accept the null hypothesis.\n",
    "Example: Null hypothesis : A person is not guilty in crime.\n",
    "                           Mango is not better than Apple\n",
    "        Alternate hypothesis:  A person is guilty in crime.\n",
    "                           Mango is  better than Apple. '''                  \n"
   ]
  },
  {
   "cell_type": "code",
   "execution_count": 26,
   "id": "3c6de262-7eb5-4ea5-9b18-00fe9847aa35",
   "metadata": {},
   "outputs": [
    {
     "data": {
      "text/plain": [
       "'Q7: Write down the steps involved in hypothesis testing.'"
      ]
     },
     "execution_count": 26,
     "metadata": {},
     "output_type": "execute_result"
    }
   ],
   "source": [
    "'''Q7: Write down the steps involved in hypothesis testing.'''"
   ]
  },
  {
   "cell_type": "code",
   "execution_count": 27,
   "id": "a96843dd-edf2-4dbd-a528-a005a785d7ee",
   "metadata": {},
   "outputs": [
    {
     "data": {
      "text/plain": [
       "'First we draw null and Alternate Hypothesis.\\n2. Then we choose the type of test.\\n3. Then we draw test value.\\n4. Then we calculate p value.\\n5. Comparing p value with the given signifiance value we draw conclusion'"
      ]
     },
     "execution_count": 27,
     "metadata": {},
     "output_type": "execute_result"
    }
   ],
   "source": [
    "'''First we draw null and Alternate Hypothesis.\n",
    "2. Then we choose the type of test.\n",
    "3. Then we draw test value.\n",
    "4. Then we calculate p value.\n",
    "5. Comparing p value with the given signifiance value we draw conclusion'''"
   ]
  },
  {
   "cell_type": "code",
   "execution_count": 28,
   "id": "a560a3f1-af92-4e4a-88e9-9d3e80df422e",
   "metadata": {},
   "outputs": [
    {
     "data": {
      "text/plain": [
       "'Q8. Define p-value and explain its significance in hypothesis testing.'"
      ]
     },
     "execution_count": 28,
     "metadata": {},
     "output_type": "execute_result"
    }
   ],
   "source": [
    "'''Q8. Define p-value and explain its significance in hypothesis testing.'''"
   ]
  },
  {
   "cell_type": "code",
   "execution_count": 29,
   "id": "94d3a440-6894-462e-86a7-6085cb5cdc3f",
   "metadata": {},
   "outputs": [
    {
     "data": {
      "text/plain": [
       "'The p-value in hypothesis testing is a measure that helps determine the strength of evidence against the null hypothesis\\n. It quantifies the probability of observing the test statistic or more extreme results if the null hypothesis were true.\\nSignificance in Hypothesis Testing:\\n\\nThe p-value serves as a crucial criterion in hypothesis testing to make decisions about whether to reject or fail to reject the null hypothesis.\\nIt helps researchers evaluate the strength of evidence in support of the alternative hypothesis based on the observed data.\\nLower p-values suggest stronger evidence against the null hypothesis, supporting the notion that there is an effect or difference present in the population.\\nSignificance level (\\n�\\nα) chosen beforehand determines the threshold for considering a p-value as statistically significant. Commonly used values are 0.05, 0.01, or 0.10.'"
      ]
     },
     "execution_count": 29,
     "metadata": {},
     "output_type": "execute_result"
    }
   ],
   "source": [
    "'''The p-value in hypothesis testing is a measure that helps determine the strength of evidence against the null hypothesis\n",
    ". It quantifies the probability of observing the test statistic or more extreme results if the null hypothesis were true.\n",
    "Significance in Hypothesis Testing:\n",
    "\n",
    "The p-value serves as a crucial criterion in hypothesis testing to make decisions about whether to reject or fail to reject the null hypothesis.\n",
    "It helps researchers evaluate the strength of evidence in support of the alternative hypothesis based on the observed data.\n",
    "Lower p-values suggest stronger evidence against the null hypothesis, supporting the notion that there is an effect or difference present in the population.\n",
    "Significance level (\n",
    "�\n",
    "α) chosen beforehand determines the threshold for considering a p-value as statistically significant. Commonly used values are 0.05, 0.01, or 0.10.'''"
   ]
  },
  {
   "cell_type": "code",
   "execution_count": 1,
   "id": "7fcfcbad-4f76-4cca-8c2e-e3cde0302f2f",
   "metadata": {},
   "outputs": [
    {
     "data": {
      "text/plain": [
       "\"Q9. Generate a Student's t-distribution plot using Python's matplotlib library, with the degrees of freedom\\nparameter set to 10.\""
      ]
     },
     "execution_count": 1,
     "metadata": {},
     "output_type": "execute_result"
    }
   ],
   "source": [
    "'''Q9. Generate a Student's t-distribution plot using Python's matplotlib library, with the degrees of freedom\n",
    "parameter set to 10.'''"
   ]
  },
  {
   "cell_type": "code",
   "execution_count": 3,
   "id": "99ef40f3-e987-4352-a3d0-9e5eafd13576",
   "metadata": {},
   "outputs": [
    {
     "data": {
      "image/png": "[encoded data removed]",
      "text/plain": [
       "<Figure size 640x480 with 1 Axes>"
      ]
     },
     "metadata": {},
     "output_type": "display_data"
    }
   ],
   "source": [
    "import matplotlib.pyplot as plt\n",
    "from scipy import stats\n",
    "\n",
    "# Set degrees of freedom\n",
    "df = 10\n",
    "\n",
    "\n",
    "x = stats.t.rvs(df, size=1000)\n",
    "plt.hist(x, bins=20, density=True)\n",
    "plt.xlabel('x')\n",
    "plt.ylabel('Density')\n",
    "plt.title(f\"Student's t-distribution (df={df})\")\n",
    "plt.show()\n",
    "\n"
   ]
  },
  {
   "cell_type": "code",
   "execution_count": 4,
   "id": "83c4e0d9-a054-4220-be62-4398d35e62bd",
   "metadata": {},
   "outputs": [
    {
     "data": {
      "text/plain": [
       "'Q10. Write a Python program to calculate the two-sample t-test for independent samples, given two\\nrandom samples of equal size and a null hypothesis that the population means are equal.'"
      ]
     },
     "execution_count": 4,
     "metadata": {},
     "output_type": "execute_result"
    }
   ],
   "source": [
    "'''Q10. Write a Python program to calculate the two-sample t-test for independent samples, given two\n",
    "random samples of equal size and a null hypothesis that the population means are equal.'''"
   ]
  },
  {
   "cell_type": "code",
   "execution_count": 8,
   "id": "c9c4ee73-9e4e-40fa-b72f-5dfd9c106d7a",
   "metadata": {},
   "outputs": [
    {
     "name": "stdout",
     "output_type": "stream",
     "text": [
      "t-statistic: 0.2868\n",
      "p-value: 0.7746\n",
      "Fail to reject the null hypothesis: the population means are likely equal.\n"
     ]
    }
   ],
   "source": [
    "import numpy as np\n",
    "from scipy import stats\n",
    "\n",
    "# Generate two random samples of equal size (sample size = 100)\n",
    "sample1 = np.random.normal(size=100)\n",
    "sample2 = np.random.normal(size=100)\n",
    "\n",
    "# Calculate the t-statistic and p-value\n",
    "t_statistic, p_value = stats.ttest_ind(sample1, sample2)\n",
    "\n",
    "# Print the results\n",
    "print(f\"t-statistic: {t_statistic:.4f}\")\n",
    "print(f\"p-value: {p_value:.4f}\")\n",
    "\n",
    "# Interpret the results\n",
    "if p_value < 0.05:\n",
    "    print(\"Reject the null hypothesis: the population means are different.\")\n",
    "else:\n",
    "    print(\"Fail to reject the null hypothesis: the population means are likely equal.\")"
   ]
  },
  {
   "cell_type": "code",
   "execution_count": 9,
   "id": "eb4ef1af-3e52-4a57-9d69-0f1fdb6a7f25",
   "metadata": {},
   "outputs": [
    {
     "data": {
      "text/plain": [
       "'Q11: What is Student’s t distribution? When to use the t-Distribution.'"
      ]
     },
     "execution_count": 9,
     "metadata": {},
     "output_type": "execute_result"
    }
   ],
   "source": [
    "'''Q11: What is Student’s t distribution? When to use the t-Distribution.'''"
   ]
  },
  {
   "cell_type": "code",
   "execution_count": 10,
   "id": "e244b4d9-a72e-4152-a2e5-d7d025515568",
   "metadata": {},
   "outputs": [
    {
     "data": {
      "text/plain": [
       "\"Student's t-distribution, also known as the Student's t, is a continuous probability distribution that resembles the normal distribution\\nbut has heavier tails.\\nThis means it has a bell-shaped curve like the normal distribution, but with fatter tails, indicating a higher probability of extreme values.\\n\\nKey features of Student's t-distribution:\\n\\nSymmetrical around zero: The distribution is symmetric, meaning the mean and median are both equal to zero.\\nBell-shaped: Similar to the normal distribution, it has a bell-shaped curve.\\nHeavier tails: Compared to the normal distribution, it has heavier tails, indicating a higher probability of observing outliers.\\nDegrees of freedom: This parameter (denoted by ν) determines the shape of the distribution. As the degrees of freedom increase, \\nthe distribution approaches the normal distribution.\\nWhen to Use the t-Distribution\\nThe t-distribution is used in various statistical analyses when:\\n\\nSample size is small: When dealing with small sample sizes (less than 30), the population standard deviation is often unknown.\\nIn such cases, the t-distribution provides a more accurate estimate of standard error compared to the normal distribution.\\nPopulation variance is unknown: When the population variance is unknown, the t-distribution is used to estimate confidence \\nintervals and perform hypothesis testing.\\nRobust to outliers: Due to its heavier tails, the t-distribution is more robust to outliers than the normal distribution.\\nThis means that the presence of outliers in the sample will have less impact on the results of the analysis.\\nHere are some specific examples of when the t-distribution is commonly used:\\n\\nStudent's t-test: This test compares the means of two independent samples.\\nConfidence intervals for the mean: This allows you to estimate the range within which the population mean lies with a certain level of confidence.\\nLinear regression analysis: The t-distribution is used to assess the significance of the regression coefficients.\\nConclusion\\nStudent's t-distribution is a valuable tool in statistical analysis, especially when dealing with small sample sizes, unknown population variances,\\nand potential outliers. Its bell-shaped curve and heavier tails offer a more accurate picture of the data than the normal distribution in such\\nsituations.\""
      ]
     },
     "execution_count": 10,
     "metadata": {},
     "output_type": "execute_result"
    }
   ],
   "source": [
    "'''Student's t-distribution, also known as the Student's t, is a continuous probability distribution that resembles the normal distribution\n",
    "but has heavier tails.\n",
    "This means it has a bell-shaped curve like the normal distribution, but with fatter tails, indicating a higher probability of extreme values.\n",
    "\n",
    "Key features of Student's t-distribution:\n",
    "\n",
    "Symmetrical around zero: The distribution is symmetric, meaning the mean and median are both equal to zero.\n",
    "Bell-shaped: Similar to the normal distribution, it has a bell-shaped curve.\n",
    "Heavier tails: Compared to the normal distribution, it has heavier tails, indicating a higher probability of observing outliers.\n",
    "Degrees of freedom: This parameter (denoted by ν) determines the shape of the distribution. As the degrees of freedom increase, \n",
    "the distribution approaches the normal distribution.\n",
    "When to Use the t-Distribution\n",
    "The t-distribution is used in various statistical analyses when:\n",
    "\n",
    "Sample size is small: When dealing with small sample sizes (less than 30), the population standard deviation is often unknown.\n",
    "In such cases, the t-distribution provides a more accurate estimate of standard error compared to the normal distribution.\n",
    "Population variance is unknown: When the population variance is unknown, the t-distribution is used to estimate confidence \n",
    "intervals and perform hypothesis testing.\n",
    "Robust to outliers: Due to its heavier tails, the t-distribution is more robust to outliers than the normal distribution.\n",
    "This means that the presence of outliers in the sample will have less impact on the results of the analysis.\n",
    "Here are some specific examples of when the t-distribution is commonly used:\n",
    "\n",
    "Student's t-test: This test compares the means of two independent samples.\n",
    "Confidence intervals for the mean: This allows you to estimate the range within which the population mean lies with a certain level of confidence.\n",
    "Linear regression analysis: The t-distribution is used to assess the significance of the regression coefficients.\n",
    "Conclusion\n",
    "Student's t-distribution is a valuable tool in statistical analysis, especially when dealing with small sample sizes, unknown population variances,\n",
    "and potential outliers. Its bell-shaped curve and heavier tails offer a more accurate picture of the data than the normal distribution in such\n",
    "situations.'''"
   ]
  },
  {
   "cell_type": "code",
   "execution_count": 11,
   "id": "3a0d0b4c-8f1d-461e-8a43-356f7025f88c",
   "metadata": {},
   "outputs": [
    {
     "data": {
      "text/plain": [
       "'Q12: What is t-statistic? State the formula for t-statistic.'"
      ]
     },
     "execution_count": 11,
     "metadata": {},
     "output_type": "execute_result"
    }
   ],
   "source": [
    "'''Q12: What is t-statistic? State the formula for t-statistic.'''"
   ]
  },
  {
   "cell_type": "code",
   "execution_count": 12,
   "id": "1d2494e7-b7a0-4c63-adf7-43192b825f68",
   "metadata": {},
   "outputs": [
    {
     "data": {
      "text/plain": [
       "'\\nt-statistic:\\nThe t-statistic is a standardized measure of the difference between two sample means used in statistical hypothesis testing. \\nIt indicates the number of standard errors the observed difference between the means lies away from the null hypothesis.\\n\\nFormula for t-statistic:\\n\\nThere are different formulas for the t-statistic depending on the specific type of t-test being conducted. Here are the most common ones:\\n\\n1. One-sample t-test:\\n\\nt = (x̄ - μ) / (s / √n)\\nwhere:\\n\\nx̄ is the sample mean\\nμ is the population mean (hypothesized value)\\ns is the sample standard deviation\\nn is the sample size\\n2. Two-sample t-test (independent samples):\\n\\nt = (x̄1 - x̄2) / √[(s1^2 / n1) + (s2^2 / n2)]\\nwhere:\\n\\nx̄1 and x̄2 are the means of the two samples\\ns1 and s2 are the standard deviations of the two samples\\nn1 and n2 are the sizes of the two samples\\n3. Paired-sample t-test:\\n\\nt = (d̄ - μ) / (s_d / √n)\\nwhere:\\n\\nd̄ is the mean of the differences between paired samples\\nμ is the hypothesized mean difference (usually 0)\\ns_d is the standard deviation of the differences\\nn is the number of paired samples'"
      ]
     },
     "execution_count": 12,
     "metadata": {},
     "output_type": "execute_result"
    }
   ],
   "source": [
    "'''\n",
    "t-statistic:\n",
    "The t-statistic is a standardized measure of the difference between two sample means used in statistical hypothesis testing. \n",
    "It indicates the number of standard errors the observed difference between the means lies away from the null hypothesis.\n",
    "\n",
    "Formula for t-statistic:\n",
    "\n",
    "There are different formulas for the t-statistic depending on the specific type of t-test being conducted. Here are the most common ones:\n",
    "\n",
    "1. One-sample t-test:\n",
    "\n",
    "t = (x̄ - μ) / (s / √n)\n",
    "where:\n",
    "\n",
    "x̄ is the sample mean\n",
    "μ is the population mean (hypothesized value)\n",
    "s is the sample standard deviation\n",
    "n is the sample size\n",
    "2. Two-sample t-test (independent samples):\n",
    "\n",
    "t = (x̄1 - x̄2) / √[(s1^2 / n1) + (s2^2 / n2)]\n",
    "where:\n",
    "\n",
    "x̄1 and x̄2 are the means of the two samples\n",
    "s1 and s2 are the standard deviations of the two samples\n",
    "n1 and n2 are the sizes of the two samples\n",
    "3. Paired-sample t-test:\n",
    "\n",
    "t = (d̄ - μ) / (s_d / √n)\n",
    "where:\n",
    "\n",
    "d̄ is the mean of the differences between paired samples\n",
    "μ is the hypothesized mean difference (usually 0)\n",
    "s_d is the standard deviation of the differences\n",
    "n is the number of paired samples'''"
   ]
  },
  {
   "cell_type": "code",
   "execution_count": 13,
   "id": "bb0e4b04-8591-472d-bb05-0dfbaf6d260e",
   "metadata": {},
   "outputs": [
    {
     "data": {
      "text/plain": [
       "'Q13. A coffee shop owner wants to estimate the average daily revenue for their shop. They take a random\\nsample of 50 days and find the sample mean revenue to be $500 with a standard deviation of $50.\\nEstimate the population mean revenue with a 95% confidence interval.'"
      ]
     },
     "execution_count": 13,
     "metadata": {},
     "output_type": "execute_result"
    }
   ],
   "source": [
    "'''Q13. A coffee shop owner wants to estimate the average daily revenue for their shop. They take a random\n",
    "sample of 50 days and find the sample mean revenue to be $500 with a standard deviation of $50.\n",
    "Estimate the population mean revenue with a 95% confidence interval.'''"
   ]
  },
  {
   "cell_type": "code",
   "execution_count": 5,
   "id": "317ea047-6b99-44c6-929e-86a556d5f1b8",
   "metadata": {},
   "outputs": [
    {
     "data": {
      "text/plain": [
       "'Here we have a estimate as range of value\\nconfidence interval=95%\\nwe have sample mean=$500\\nstandard deviation=$50\\nConfidence Interval=Sample Mean±(Critical Value×(sample standard dev)/((sample size)**1/2))\\nFirst, we need to find the critical value associated with a 95% confidence level for a two-tailed test using z distribution as sample size>30\\ncritical value=1.96 for ci=95%\\nMargin of Error=Critical Value× (sample standard dev)/(sample size**1/2))\\nmargin of error=≈13.85\\nNow,Therefore, the 95% confidence interval for the population mean revenue is approximately $500±$13.85 $500±$13.85 and $486.15 to $513.85.'"
      ]
     },
     "execution_count": 5,
     "metadata": {},
     "output_type": "execute_result"
    }
   ],
   "source": [
    "'''Here we have a estimate as range of value\n",
    "confidence interval=95%\n",
    "we have sample mean=$500\n",
    "standard deviation=$50\n",
    "Confidence Interval=Sample Mean±(Critical Value×(sample standard dev)/((sample size)**1/2))\n",
    "First, we need to find the critical value associated with a 95% confidence level for a two-tailed test using z distribution as sample size>30\n",
    "critical value=1.96 for ci=95%\n",
    "Margin of Error=Critical Value× (sample standard dev)/(sample size**1/2))\n",
    "margin of error=≈13.85\n",
    "Now,Therefore, the 95% confidence interval for the population mean revenue is approximately $500±$13.85 $500±$13.85 and $486.15 to $513.85.'''\n",
    " \n",
    "\n",
    "               \n",
    "\n"
   ]
  },
  {
   "cell_type": "code",
   "execution_count": 14,
   "id": "3a1f4348-4472-4418-960a-d6e5dd47bb36",
   "metadata": {},
   "outputs": [
    {
     "data": {
      "text/plain": [
       "'Q14. A researcher hypothesizes that a new drug will decrease blood pressure by 10 mmHg. They conduct a\\nclinical trial with 100 patients and find that the sample mean decrease in blood pressure is 8 mmHg with a\\nstandard deviation of 3 mmHg. Test the hypothesis with a significance level of 0.05.'"
      ]
     },
     "execution_count": 14,
     "metadata": {},
     "output_type": "execute_result"
    }
   ],
   "source": [
    "'''Q14. A researcher hypothesizes that a new drug will decrease blood pressure by 10 mmHg. They conduct a\n",
    "clinical trial with 100 patients and find that the sample mean decrease in blood pressure is 8 mmHg with a\n",
    "standard deviation of 3 mmHg. Test the hypothesis with a significance level of 0.05.'''"
   ]
  },
  {
   "cell_type": "code",
   "execution_count": 7,
   "id": "e089d28d-c48f-49af-87fe-aa996a415393",
   "metadata": {},
   "outputs": [
    {
     "data": {
      "text/plain": [
       "'Null hypothesis (H0): The new drug does not decrease blood pressure by 10 mmHg.\\nAlternative hypothesis (H1): The new drug decreases blood pressure by 10 mmHg.\\nSample mean = 8 mmHg\\nSample standard deviation = 3 mmHg\\nSample size\\nn = 100\\nSignificance level\\nα = 0.05\\nThe formula to calculate the t-statistic for a one-sample t-test is:\\nt=(sample mean-hypothesised mean)/((sample standard deviation)/(samplesize**1/2))\\nt=−6.67\\ndf=100-1=99\\nAt a significance level of 0.05, with=\\n99\\ndf=99, the critical t-values are approximately \\n=±1.984\\nt=±1.984 (using a two-tailed test).\\nTherefore, we reject the null hypothesis  because there is strong evidence to suggest that the new drug has an effect on decreasing blood pressure. \\n The sample provides significant evidence to support the claim that the drug decreases blood pressure by a different amount than 10 mmHg.'"
      ]
     },
     "execution_count": 7,
     "metadata": {},
     "output_type": "execute_result"
    }
   ],
   "source": [
    "'''Null hypothesis (H0): The new drug does not decrease blood pressure by 10 mmHg.\n",
    "Alternative hypothesis (H1): The new drug decreases blood pressure by 10 mmHg.\n",
    "Sample mean = 8 mmHg\n",
    "Sample standard deviation = 3 mmHg\n",
    "Sample size\n",
    "n = 100\n",
    "Significance level\n",
    "α = 0.05\n",
    "The formula to calculate the t-statistic for a one-sample t-test is:\n",
    "t=(sample mean-hypothesised -mean-population men)/((sample standard deviation)/(root of sample size))\n",
    "t=−6.67\n",
    "df=100-1=99\n",
    "At a significance level of 0.05, with\n",
    "df=99,with 2 tail test  the critical t-values are approximately \n",
    "=±1.984\n",
    "t=±1.984 (using a two-tailed test).\n",
    "Therefore, we reject the null hypothesis  because there is strong evidence to suggest that the new drug has an effect on decreasing blood pressure. \n",
    " The sample provides significant evidence to support the claim that the drug decreases blood pressure by a different amount than 10 mmHg.'''\n",
    "\n",
    "\n"
   ]
  },
  {
   "cell_type": "code",
   "execution_count": 15,
   "id": "d7d792b1-fde0-4b7f-acab-61e6f4e95e0d",
   "metadata": {},
   "outputs": [
    {
     "data": {
      "text/plain": [
       "'Q15. An electronics company produces a certain type of product with a mean weight of 5 pounds and a\\nstandard deviation of 0.5 pounds. A random sample of 25 products is taken, and the sample mean weight\\nis found to be 4.8 pounds. Test the hypothesis that the true mean weight of the products is less than 5\\npounds with a significance level of 0.01.'"
      ]
     },
     "execution_count": 15,
     "metadata": {},
     "output_type": "execute_result"
    }
   ],
   "source": [
    "'''Q15. An electronics company produces a certain type of product with a mean weight of 5 pounds and a\n",
    "standard deviation of 0.5 pounds. A random sample of 25 products is taken, and the sample mean weight\n",
    "is found to be 4.8 pounds. Test the hypothesis that the true mean weight of the products is less than 5\n",
    "pounds with a significance level of 0.01.'''"
   ]
  },
  {
   "cell_type": "code",
   "execution_count": 9,
   "id": "25743f6b-0e62-4347-b4b6-5a17d52a86c8",
   "metadata": {},
   "outputs": [
    {
     "data": {
      "text/plain": [
       "\"To test the hypothesis that the true mean weight of the products is less than 5 pounds, \\nwe'll conduct a one-sample t-test since we're comparing a sample mean to a known population mean when the population standard deviation is given.\\npopulation mean=5 pound\\nsample mean=4.8\\npopulation standard deviation=0.5 pound\\nsample size=25\\nHere we have one tail trial\\nwe have t=(4.8-5.0)/((0.5)/(25**1/2))\\nt=-2\\n\\nwe have t=-2, df=24 significance level=0.01 and one tailed \\nt value=-1.318*2=-2.636\\n-2>-2.636 so we reject the null hypothesis \\nconclusion: the true mean weight of the products is not less than 5\\npounds \""
      ]
     },
     "execution_count": 9,
     "metadata": {},
     "output_type": "execute_result"
    }
   ],
   "source": [
    "'''To test the hypothesis that the true mean weight of the products is less than 5 pounds, \n",
    "we'll conduct a one-sample t-test since we're comparing a sample mean to a known population mean when the population standard deviation is given.\n",
    "population mean=5 pound\n",
    "sample mean=4.8\n",
    "population standard deviation=0.5 pound\n",
    "sample size=25\n",
    "Here we have one tail trial\n",
    "we have t=(4.8-5.0)/((0.5)/(25**1/2))\n",
    "t=-2\n",
    "\n",
    "we have t=-2, df=24 significance level=0.01 and one tailed \n",
    "t value=-1.318*2=-2.636\n",
    "-2>-2.636 so we reject the null hypothesis \n",
    "conclusion: the true mean weight of the products is not less than 5\n",
    "pounds '''\n"
   ]
  },
  {
   "cell_type": "code",
   "execution_count": null,
   "id": "c1f6a58d-de4f-4250-9132-4010604ce79d",
   "metadata": {},
   "outputs": [],
   "source": [
    "\n"
   ]
  },
  {
   "cell_type": "code",
   "execution_count": 11,
   "id": "dff31074-c8f9-4b19-b4b2-d6417bba8d74",
   "metadata": {},
   "outputs": [
    {
     "data": {
      "text/plain": [
       "'Q16. Two groups of students are given different study materials to prepare for a test. The first group (n1 =\\n30) has a mean score of 80 with a standard deviation of 10, and the second group (n2 = 40) has a mean\\nscore of 75 with a standard deviation of 8. Test the hypothesis that the population means for the two\\ngroups are equal with a significance level of 0.01.'"
      ]
     },
     "execution_count": 11,
     "metadata": {},
     "output_type": "execute_result"
    }
   ],
   "source": [
    "'''Q16. Two groups of students are given different study materials to prepare for a test. The first group (n1 =\n",
    "30) has a mean score of 80 with a standard deviation of 10, and the second group (n2 = 40) has a mean\n",
    "score of 75 with a standard deviation of 8. Test the hypothesis that the population means for the two\n",
    "groups are equal with a significance level of 0.01.'''"
   ]
  },
  {
   "cell_type": "code",
   "execution_count": null,
   "id": "96c93452-80a6-46b8-ae06-e9cc868fec5d",
   "metadata": {},
   "outputs": [],
   "source": [
    "'''To test the hypothesis that the population means for the two groups are equal, we can perform an independent two-sample t-test since we are comparing the means of two independent groups and have information about the sample means, standard deviations, and sample sizes for both groups.\n",
    "\n",
    "Given:\n",
    "Group 1:\n",
    "Sample size1 n1= 30\n",
    "Sample mean1 x1= 80\n",
    "Standard deviation1 s1= 10\n",
    "\n",
    "Group 2:\n",
    "Sample size2 n2= 40\n",
    "Sample mean 2 x2= 75\n",
    "Standard deviation2 s2 = 8\n",
    "\n",
    "Null hypothesis (H0) The population means for the two groups are equal.:\n",
    "\n",
    "Alternative hypothesis : The population means for the two groups are not equal.\n",
    "\n",
    "The formula for the two-sample t-test for independent samples is:\n",
    "\n",
    "\n",
    "t= (sample mean1-sample mean 2)/((sample1 std dev**@/(sample1 size**1/2)+(sample2 std dev**@/(sample 2 size**1/2)\n",
    "\n",
    " t=2.25\n",
    " df=((sample1 std dev**@/(sample1 size**1/2)+(sample2 std dev**@/(sample 2 size**1/2))/(sample1 std dev**@/(sample1 size**1/2)/sample 1size-1) +(sample2 std dev**@(sample 2 size**1/2)/(sample 2size-1)\n",
    " df=64\n",
    " \n",
    " using t distribution table we tvalue for df =64 and significance value 0.01 \n",
    " we get 2.659\n",
    "\n",
    "Let's calculate the t-statistic:\n",
    "\n",
    "\n",
    " \n",
    "\n",
    "Using t-distribution table, the critical t-value for a significance level of 0.01 with \n",
    "df≈64 is approximately \n",
    "±\n",
    "2.659\n",
    "±2.659.\n",
    "\n",
    "Since the calculated t-statistic (2.25) is less than the critical t-value (2.659), we fail to reject the null hypothesis.\n",
    "There is not enough evidence to suggest that the population means for the two groups are different at a significance level of 0.01.'''\n"
   ]
  },
  {
   "cell_type": "code",
   "execution_count": 17,
   "id": "09f62eaa-cd97-4543-85f6-b1b13c0d6b59",
   "metadata": {},
   "outputs": [
    {
     "data": {
      "text/plain": [
       "'Q17. A marketing company wants to estimate the average number of ads watched by viewers during a TV\\nprogram. They take a random sample of 50 viewers and find that the sample mean is 4 with a standard\\ndeviation of 1.5. Estimate the population mean with a 99% confidence interval.'"
      ]
     },
     "execution_count": 17,
     "metadata": {},
     "output_type": "execute_result"
    }
   ],
   "source": [
    "'''Q17. A marketing company wants to estimate the average number of ads watched by viewers during a TV\n",
    "program. They take a random sample of 50 viewers and find that the sample mean is 4 with a standard\n",
    "deviation of 1.5. Estimate the population mean with a 99% confidence interval.'''"
   ]
  },
  {
   "cell_type": "code",
   "execution_count": 12,
   "id": "d6e4870b-e9b5-4ca0-9a5a-a6011dcb9242",
   "metadata": {},
   "outputs": [
    {
     "data": {
      "text/plain": [
       "\"Sample mean = 4\\nSample standard deviation  = 1.5\\nSample size (n) = 50\\nConfidence level = 99%\\n\\nFirst, we need to find the critical value associated with a 99% confidence level. Since the sample size is 50 (which is sufficiently large), \\nwe can use the Z-distribution and look up the critical value from the standard normal distribution table or use statistical software to find it.\\n\\nFor a 99% confidence level, the critical z-value is approximately 2.576.\\n\\nNow, let's calculate the margin of error and the confidence interval:\\n\\nMargin of Error\\n=\\nCritical Value\\n×\\nSample Standard Deviation\\nSample Size\\nMargin of Error=Critical Value× \\nSample Size\\n\\u200b\\n \\nSample Standard Deviation\\n\\u200b\\n \\nMargin of Error\\n=\\n2.576\\n×\\n1.5\\n50\\nMargin of Error=2.576× \\n50\\n \\n1.5\\n \\n\\nMargin of Error\\n≈\\n2.576\\n×\\n1.5\\n50\\n≈\\n2.576\\n×\\n1.5\\n7.07\\n≈\\n2.576\\n×\\n0.212\\n≈\\n0.54\\nMargin of Error≈2.576× \\n50\\n\\u200b\\n \\n1.5\\n\\u200b\\n ≈2.576× \\n7.07\\n1.5\\n\\u200b\\n ≈2.576×0.212≈0.54\\n\\nNow, the confidence interval for the population mean number of ads watched by viewers during a TV program is:\\n\\nConfidence Interval\\n=\\nSample Mean\\n±\\nMargin of Error\\nConfidence Interval=Sample Mean±Margin of Error\\nConfidence Interval\\n=\\n4\\n±\\n0.54\\nConfidence Interval=4±0.54\\n\\nTherefore, the 99% confidence interval for the population mean number of ads watched by viewers during a TV program is approximately \\n4\\n±\\n0.54\\n4±0.54, which translates to a range of approximately 3.46 to 4.54.\""
      ]
     },
     "execution_count": 12,
     "metadata": {},
     "output_type": "execute_result"
    }
   ],
   "source": [
    "'''Sample mean = 4\n",
    "Sample standard deviation  = 1.5\n",
    "Sample size (n) = 50\n",
    "Confidence level = 99%\n",
    "\n",
    "First, we need to find the critical value associated with a 99% confidence level. Since the sample size is 50 (which is sufficiently large), \n",
    "we can use the Z-distribution and look up the critical value from the standard normal distribution table or use statistical software to find it.\n",
    "\n",
    "For a 99% confidence level, the critical z-value is approximately 2.576.\n",
    "\n",
    "Now, let's calculate the margin of error and the confidence interval:\n",
    "\n",
    "Margin of Error\n",
    "=\n",
    "Critical Value\n",
    "×\n",
    "Sample Standard Deviation\n",
    "Sample Size\n",
    "Margin of Error=Critical Value× \n",
    "Sample Size\n",
    "​\n",
    " \n",
    "Sample Standard Deviation\n",
    "​\n",
    " \n",
    "Margin of Error\n",
    "=\n",
    "2.576\n",
    "×\n",
    "1.5\n",
    "50\n",
    "Margin of Error=2.576× \n",
    "50\n",
    " \n",
    "1.5\n",
    " \n",
    "\n",
    "Margin of Error\n",
    "≈\n",
    "2.576\n",
    "×\n",
    "1.5\n",
    "50\n",
    "≈\n",
    "2.576\n",
    "×\n",
    "1.5\n",
    "7.07\n",
    "≈\n",
    "2.576\n",
    "×\n",
    "0.212\n",
    "≈\n",
    "0.54\n",
    "Margin of Error≈2.576× \n",
    "50\n",
    "​\n",
    " \n",
    "1.5\n",
    "​\n",
    " ≈2.576× \n",
    "7.07\n",
    "1.5\n",
    "​\n",
    " ≈2.576×0.212≈0.54\n",
    "\n",
    "Now, the confidence interval for the population mean number of ads watched by viewers during a TV program is:\n",
    "\n",
    "Confidence Interval\n",
    "=\n",
    "Sample Mean\n",
    "±\n",
    "Margin of Error\n",
    "Confidence Interval=Sample Mean±Margin of Error\n",
    "Confidence Interval\n",
    "=\n",
    "4\n",
    "±\n",
    "0.54\n",
    "Confidence Interval=4±0.54\n",
    "\n",
    "Therefore, the 99% confidence interval for the population mean number of ads watched by viewers during a TV program is approximately \n",
    "4\n",
    "±\n",
    "0.54\n",
    "4±0.54, which translates to a range of approximately 3.46 to 4.54.'''\n",
    "\n",
    "\n",
    "\n",
    "\n",
    "\n",
    "\n"
   ]
  },
  {
   "cell_type": "code",
   "execution_count": null,
   "id": "0482d0e8-46e2-4959-b99a-ca1a6e1a36c6",
   "metadata": {},
   "outputs": [],
   "source": []
  }
 ],
 "metadata": {
  "kernelspec": {
   "display_name": "Python 3 (ipykernel)",
   "language": "python",
   "name": "python3"
  },
  "language_info": {
   "codemirror_mode": {
    "name": "ipython",
    "version": 3
   },
   "file_extension": ".py",
   "mimetype": "text/x-python",
   "name": "python",
   "nbconvert_exporter": "python",
   "pygments_lexer": "ipython3",
   "version": "3.10.8"
  }
 },
 "nbformat": 4,
 "nbformat_minor": 5
}
