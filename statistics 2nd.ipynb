{
 "cells": [
  {
   "cell_type": "code",
   "execution_count": 1,
   "id": "77f0674d-9678-4923-9270-563db40025a7",
   "metadata": {},
   "outputs": [
    {
     "data": {
      "text/plain": [
       "'Q1. What are the three measures of central tendency?'"
      ]
     },
     "execution_count": 1,
     "metadata": {},
     "output_type": "execute_result"
    }
   ],
   "source": [
    "'''Q1. What are the three measures of central tendency?'''"
   ]
  },
  {
   "cell_type": "code",
   "execution_count": 4,
   "id": "b27707a5-12c5-4cd3-b942-4ed73410ec9a",
   "metadata": {},
   "outputs": [
    {
     "data": {
      "text/plain": [
       "'Three measures of central tendency ae mean, meadian and mode.\\nMean:It is measured as the total sum of all the dataset divided by total no. of data present.It is like average.\\nMedian:It is the middle element of data set when arrnged in ascending or decending order.In case we have a even data set then we\\ntake average of two data set of middle.\\nMode:It is the max frequency of the data set>In case we have same frequency of data value we have no mode.'"
      ]
     },
     "execution_count": 4,
     "metadata": {},
     "output_type": "execute_result"
    }
   ],
   "source": [
    "'''Three measures of central tendency ae mean, meadian and mode.\n",
    "Mean:It is measured as the total sum of all the dataset divided by total no. of data present.It is like average.\n",
    "Median:It is the middle element of data set when arrnged in ascending or decending order.In case we have a even data set then we\n",
    "take average of two data set of middle.\n",
    "Mode:It is the max frequency of the data set>In case we have same frequency of data value we have no mode.'''"
   ]
  },
  {
   "cell_type": "code",
   "execution_count": 23,
   "id": "0158d2fe-1fc2-44e7-9563-465ccf480f85",
   "metadata": {},
   "outputs": [
    {
     "data": {
      "text/plain": [
       "'Q2. What is the difference between the mean, median, and mode? How are they used to measure the\\ncentral tendency of a dataset?'"
      ]
     },
     "execution_count": 23,
     "metadata": {},
     "output_type": "execute_result"
    }
   ],
   "source": [
    "'''Q2. What is the difference between the mean, median, and mode? How are they used to measure the\n",
    "central tendency of a dataset?'''"
   ]
  },
  {
   "cell_type": "code",
   "execution_count": 23,
   "id": "ceccf778-9a68-4761-96a6-331c64c9e64a",
   "metadata": {},
   "outputs": [
    {
     "data": {
      "text/plain": [
       "'Q2. What is the difference between the mean, median, and mode? How are they used to measure the\\ncentral tendency of a dataset?'"
      ]
     },
     "execution_count": 23,
     "metadata": {},
     "output_type": "execute_result"
    }
   ],
   "source": [
    "'''The central tendency helps us to detrmine the pattern of the distribution of data. \n",
    "The mean is calculated by summing all the values in a dataset and dividing that sum by the number of observations.\n",
    "The median is the middle value in a dataset when the values are arranged in ascending or descending order.\n",
    "If the dataset has an odd number of observations, the median is the middle value. If the dataset has an even number of observations, \n",
    "the median is the average of the two middle values.\n",
    "The mode is the value that appears most frequently in a dataset.\n",
    "A dataset can have one mode (unimodal), two modes (bimodal), or more than two modes (multimodal) if multiple values occur with the \n",
    "same highest frequency.\n",
    "They are useful in measuring the central tendency as:\n",
    "Mean: Commonly used when the distribution is approximately symmetric and without significant outliers. It provides the average value and\n",
    "is useful for quantitative data.\n",
    "Median: Useful when dealing with skewed distributions or when the dataset contains outliers. It represents the middle value and is less \n",
    "influenced by extreme values.\n",
    "Mode: Applicable to nominal or categorical data, indicating the most frequent category. It can also be used alongside other measures \n",
    "to provide a complete picture of the dataset's central tendency.'''"
   ]
  },
  {
   "cell_type": "code",
   "execution_count": 5,
   "id": "815b8061-03aa-4b91-bcc8-0308c8027f45",
   "metadata": {},
   "outputs": [
    {
     "data": {
      "text/plain": [
       "'Q3. Measure the three measures of central tendency for the given height data:\\n[178,177,176,177,178.2,178,175,179,180,175,178.9,176.2,177,172.5,178,176.5]'"
      ]
     },
     "execution_count": 5,
     "metadata": {},
     "output_type": "execute_result"
    }
   ],
   "source": [
    "'''Q3. Measure the three measures of central tendency for the given height data:\n",
    "[178,177,176,177,178.2,178,175,179,180,175,178.9,176.2,177,172.5,178,176.5]'''"
   ]
  },
  {
   "cell_type": "code",
   "execution_count": 17,
   "id": "6995e8c6-67af-44e7-8b28-3378f129d817",
   "metadata": {},
   "outputs": [],
   "source": [
    "from statistics import mean,median,mode,stdev"
   ]
  },
  {
   "cell_type": "code",
   "execution_count": 18,
   "id": "c9400801-ec03-4084-9f7d-fd6d750e4755",
   "metadata": {},
   "outputs": [],
   "source": [
    "l=[178,177,176,177,178.2,178,175,179,180,175,178.9,176.2,177,172.5,178,176.5]"
   ]
  },
  {
   "cell_type": "code",
   "execution_count": 19,
   "id": "120d202b-0e79-4f03-b36e-5fe9b9b43986",
   "metadata": {},
   "outputs": [
    {
     "name": "stdout",
     "output_type": "stream",
     "text": [
      "The mean of the data is 177.01875 The median of the data is 177.0 The mode of the data is  178\n"
     ]
    }
   ],
   "source": [
    "print(f'The mean of the data is', mean(l), 'The median of the data is' , median(l), 'The mode of the data is ', mode(l))"
   ]
  },
  {
   "cell_type": "code",
   "execution_count": 23,
   "id": "bbd7c2aa-b005-4099-8416-89137bd9128e",
   "metadata": {},
   "outputs": [
    {
     "data": {
      "text/plain": [
       "'Q4. Find the standard deviation for the given data:'"
      ]
     },
     "execution_count": 23,
     "metadata": {},
     "output_type": "execute_result"
    }
   ],
   "source": [
    "'''Q4. Find the standard deviation for the given data:'''"
   ]
  },
  {
   "cell_type": "code",
   "execution_count": 25,
   "id": "53533c2b-d94d-42f1-bdd0-b218efa18950",
   "metadata": {},
   "outputs": [
    {
     "name": "stdout",
     "output_type": "stream",
     "text": [
      "The standard deviation of the data is 1.8472389305844188\n"
     ]
    }
   ],
   "source": [
    "print(f\"The standard deviation of the data is\", stdev(l))"
   ]
  },
  {
   "cell_type": "code",
   "execution_count": 26,
   "id": "ecdbbe2c-90ce-471a-890a-69ac2073195a",
   "metadata": {},
   "outputs": [],
   "source": [
    "import numpy as np"
   ]
  },
  {
   "cell_type": "code",
   "execution_count": 28,
   "id": "5ff64e0f-5ab3-4af6-ab5a-cafb20d73887",
   "metadata": {},
   "outputs": [],
   "source": [
    "l=[178,177,176,177,178.2,178,175,179,180,175,178.9,176.2,177,172.5,178,176.5]"
   ]
  },
  {
   "cell_type": "code",
   "execution_count": 29,
   "id": "24b98685-926b-4b58-8cd5-91312c17cf43",
   "metadata": {},
   "outputs": [
    {
     "name": "stdout",
     "output_type": "stream",
     "text": [
      "The standard deviation of the data is 1.7885814036548633\n"
     ]
    }
   ],
   "source": [
    "print(f\"The standard deviation of the data is\", np.std(l))"
   ]
  },
  {
   "cell_type": "code",
   "execution_count": 31,
   "id": "721d77b6-c28b-4ac6-89dd-f387a8b875bb",
   "metadata": {},
   "outputs": [
    {
     "data": {
      "text/plain": [
       "'Q5. How are measures of dispersion such as range, variance, and standard deviation used to describe\\nthe spread of a dataset? Provide an example.'"
      ]
     },
     "execution_count": 31,
     "metadata": {},
     "output_type": "execute_result"
    }
   ],
   "source": [
    "'''Q5. How are measures of dispersion such as range, variance, and standard deviation used to describe\n",
    "the spread of a dataset? Provide an example.'''"
   ]
  },
  {
   "cell_type": "code",
   "execution_count": 35,
   "id": "7e1a6512-97a5-4f18-9b0b-436ddf524593",
   "metadata": {},
   "outputs": [],
   "source": [
    "l2=np.array(l)"
   ]
  },
  {
   "cell_type": "code",
   "execution_count": 36,
   "id": "6fbb36bb-eaa2-46ee-b2cb-2f316c2d0f5c",
   "metadata": {},
   "outputs": [
    {
     "data": {
      "text/plain": [
       "7.5"
      ]
     },
     "execution_count": 36,
     "metadata": {},
     "output_type": "execute_result"
    }
   ],
   "source": [
    "np.ptp(l2) #it gives the max value of data set - min value of dat set> It gives the insight of the Spreading of data value"
   ]
  },
  {
   "cell_type": "code",
   "execution_count": 37,
   "id": "3cf130c9-4da9-4f97-b8c6-dd6d8d90bbc4",
   "metadata": {},
   "outputs": [
    {
     "data": {
      "text/plain": [
       "3.199023437500001"
      ]
     },
     "execution_count": 37,
     "metadata": {},
     "output_type": "execute_result"
    }
   ],
   "source": [
    "np.var(l2) # It gives the how the data vary from mean of the data set "
   ]
  },
  {
   "cell_type": "code",
   "execution_count": 39,
   "id": "f52bc499-a787-4825-90c1-a4d35eccddd7",
   "metadata": {},
   "outputs": [
    {
     "data": {
      "text/plain": [
       "1.7885814036548633"
      ]
     },
     "execution_count": 39,
     "metadata": {},
     "output_type": "execute_result"
    }
   ],
   "source": [
    "np.std(l2) # it gives how much is the deviation from the average value or mean of the data."
   ]
  },
  {
   "cell_type": "code",
   "execution_count": 40,
   "id": "68430cab-0cc0-4e35-8d3f-dbc1096e0673",
   "metadata": {},
   "outputs": [
    {
     "data": {
      "text/plain": [
       "'Q6. What is a Venn diagram?'"
      ]
     },
     "execution_count": 40,
     "metadata": {},
     "output_type": "execute_result"
    }
   ],
   "source": [
    "'''Q6. What is a Venn diagram?'''"
   ]
  },
  {
   "cell_type": "code",
   "execution_count": 41,
   "id": "c38c596e-e32d-464f-9cf1-acde579991f2",
   "metadata": {},
   "outputs": [
    {
     "data": {
      "text/plain": [
       "'  A vien diagram is the graphical representation of two or more sets of data.It signifies how much data of the sets coincide with each others\\nOr vary.The circle represents data of the set> th overlapping area represets common data and the non overlapping area represent unique element\\nof the data'"
      ]
     },
     "execution_count": 41,
     "metadata": {},
     "output_type": "execute_result"
    }
   ],
   "source": [
    "'''  A vien diagram is the graphical representation of two or more sets of data.It signifies how much data of the sets coincide with each others\n",
    "Or vary.The circle represents data of the set> th overlapping area represets common data and the non overlapping area represent unique element\n",
    "of the data'''\n"
   ]
  },
  {
   "cell_type": "code",
   "execution_count": 42,
   "id": "97f20747-9702-489d-854d-01c7686aad5d",
   "metadata": {},
   "outputs": [
    {
     "data": {
      "text/plain": [
       "'Q7. For the two given sets A = (2,3,4,5,6,7) & B = (0,2,6,8,10). Find:\\n(i) A B\\n(ii) A ⋃ B'"
      ]
     },
     "execution_count": 42,
     "metadata": {},
     "output_type": "execute_result"
    }
   ],
   "source": [
    "'''Q7. For the two given sets A = (2,3,4,5,6,7) & B = (0,2,6,8,10). Find:\n",
    "(i) A B\n",
    "(ii) A ⋃ B'''"
   ]
  },
  {
   "cell_type": "code",
   "execution_count": 43,
   "id": "a8d5b805-4fb5-424e-b407-ba526b09223b",
   "metadata": {},
   "outputs": [],
   "source": [
    " A = {2,3,4,5,6,7}\n",
    "B= {0,2,6,8,10}"
   ]
  },
  {
   "cell_type": "code",
   "execution_count": 44,
   "id": "de8451b9-aa47-4df2-b371-62e9cdad636e",
   "metadata": {},
   "outputs": [
    {
     "data": {
      "text/plain": [
       "{2, 6}"
      ]
     },
     "execution_count": 44,
     "metadata": {},
     "output_type": "execute_result"
    }
   ],
   "source": [
    "A.intersection(B) #it is for A intersection B"
   ]
  },
  {
   "cell_type": "code",
   "execution_count": 45,
   "id": "66dab5f2-b498-4fdb-869b-fbe6792949e0",
   "metadata": {},
   "outputs": [
    {
     "data": {
      "text/plain": [
       "{0, 2, 3, 4, 5, 6, 7, 8, 10}"
      ]
     },
     "execution_count": 45,
     "metadata": {},
     "output_type": "execute_result"
    }
   ],
   "source": [
    "A.union(B) #it is for A ⋃ B"
   ]
  },
  {
   "cell_type": "code",
   "execution_count": 46,
   "id": "7fc2a66e-e40d-4eb1-aef3-5d00360e4c73",
   "metadata": {},
   "outputs": [
    {
     "data": {
      "text/plain": [
       "'Q8. What do you understand about skewness in data?'"
      ]
     },
     "execution_count": 46,
     "metadata": {},
     "output_type": "execute_result"
    }
   ],
   "source": [
    "'''Q8. What do you understand about skewness in data?'''"
   ]
  },
  {
   "cell_type": "code",
   "execution_count": null,
   "id": "b560eae3-7e93-41ba-beca-c5c78072016e",
   "metadata": {},
   "outputs": [],
   "source": [
    "'''skewess is the shift of data to right or left side in a probablity distribution.A probabality distribution is symmentry \n",
    "when mean, median and mode are equal.In skeweness distribution is either right shifted (positive) or left shifted(negative).\n",
    "When mean>median>mode it is right shifted, When mean<median<mode it is ledt shifted'''\n"
   ]
  },
  {
   "cell_type": "code",
   "execution_count": 1,
   "id": "b1a1375c-7178-4035-a532-1d9da204ead5",
   "metadata": {},
   "outputs": [
    {
     "data": {
      "text/plain": [
       "'Q9. If a data is right skewed then what will be the position of median with respect to mean?'"
      ]
     },
     "execution_count": 1,
     "metadata": {},
     "output_type": "execute_result"
    }
   ],
   "source": [
    "'''Q9. If a data is right skewed then what will be the position of median with respect to mean?'''"
   ]
  },
  {
   "cell_type": "code",
   "execution_count": 2,
   "id": "90a2fa8c-b7cf-4aab-a096-353783e37ae0",
   "metadata": {},
   "outputs": [
    {
     "data": {
      "text/plain": [
       "'In right skewed distribution median is smaller than mean'"
      ]
     },
     "execution_count": 2,
     "metadata": {},
     "output_type": "execute_result"
    }
   ],
   "source": [
    "'''In right skewed distribution median is smaller than mean'''"
   ]
  },
  {
   "cell_type": "code",
   "execution_count": 3,
   "id": "e79bbec5-2bf2-427a-8a03-f59620905dd5",
   "metadata": {},
   "outputs": [
    {
     "data": {
      "text/plain": [
       "'Q10. Explain the difference between covariance and correlation. How are these measures used in\\nstatistical analysis?'"
      ]
     },
     "execution_count": 3,
     "metadata": {},
     "output_type": "execute_result"
    }
   ],
   "source": [
    "'''Q10. Explain the difference between covariance and correlation. How are these measures used in\n",
    "statistical analysis?'''"
   ]
  },
  {
   "cell_type": "code",
   "execution_count": 4,
   "id": "32db47c2-cdf4-4d70-a1cd-f493377a5173",
   "metadata": {},
   "outputs": [
    {
     "data": {
      "text/plain": [
       "'covariance and correlation both are used to find the relation between two variable in statistics but they differ\\nas:\\nvariance is covariance in (x,x).Covariance measures the degree to which two random variables vary together. It shows the directional relationship between two variables.\\nIt can take on any value, positive, negative, or zero, indicating the direction of the relationship between the variables.If it is \\npositive the variable increases or decreases with each other.\\nIf negative it is inversely related to each other.'"
      ]
     },
     "execution_count": 4,
     "metadata": {},
     "output_type": "execute_result"
    }
   ],
   "source": [
    "'''covariance and correlation both are used to find the relation between two variable in statistics but they differ\n",
    "as:\n",
    "variance is covariance in (x,x).Covariance measures the degree to which two random variables vary together. It shows the directional relationship between two variables.\n",
    "It can take on any value, positive, negative, or zero, indicating the direction of the relationship between the variables.If it is \n",
    "positive the variable increases or decreases with each other.\n",
    "If negative it is inversely related to each other.'''"
   ]
  },
  {
   "cell_type": "code",
   "execution_count": 5,
   "id": "42438b91-ecba-4fe6-9723-4c92fa08a83c",
   "metadata": {},
   "outputs": [
    {
     "data": {
      "text/plain": [
       "'Q11. What is the formula for calculating the sample mean? Provide an example calculation for a\\ndataset.'"
      ]
     },
     "execution_count": 5,
     "metadata": {},
     "output_type": "execute_result"
    }
   ],
   "source": [
    "'''Q11. What is the formula for calculating the sample mean? Provide an example calculation for a\n",
    "dataset.'''"
   ]
  },
  {
   "cell_type": "code",
   "execution_count": 2,
   "id": "7b3fdb92-13a4-4057-aa71-1c0a1760f37e",
   "metadata": {},
   "outputs": [],
   "source": []
  },
  {
   "cell_type": "code",
   "execution_count": 3,
   "id": "5f56edbd-ed4f-4418-8548-8f67a7444212",
   "metadata": {},
   "outputs": [],
   "source": [
    "import numpy as np"
   ]
  },
  {
   "cell_type": "code",
   "execution_count": null,
   "id": "53c1d17b-a2c8-4179-98ec-322585d20a01",
   "metadata": {},
   "outputs": [],
   "source": []
  },
  {
   "cell_type": "code",
   "execution_count": 13,
   "id": "9c943859-3a2b-461f-a063-6a94874c4da0",
   "metadata": {},
   "outputs": [],
   "source": [
    "l=sns.load_dataset('iris')\n"
   ]
  },
  {
   "cell_type": "code",
   "execution_count": 14,
   "id": "2dfde63b-6919-4b15-a543-f75c15dac7c0",
   "metadata": {},
   "outputs": [
    {
     "name": "stderr",
     "output_type": "stream",
     "text": [
      "/opt/conda/lib/python3.10/site-packages/numpy/core/fromnumeric.py:3430: FutureWarning: In a future version, DataFrame.mean(axis=None) will return a scalar mean over the entire DataFrame. To retain the old behavior, use 'frame.mean(axis=0)' or just 'frame.mean()'\n",
      "  return mean(axis=axis, dtype=dtype, out=out, **kwargs)\n",
      "/opt/conda/lib/python3.10/site-packages/numpy/core/fromnumeric.py:3430: FutureWarning: The default value of numeric_only in DataFrame.mean is deprecated. In a future version, it will default to False. In addition, specifying 'numeric_only=None' is deprecated. Select only valid columns or specify the value of numeric_only to silence this warning.\n",
      "  return mean(axis=axis, dtype=dtype, out=out, **kwargs)\n"
     ]
    },
    {
     "data": {
      "text/plain": [
       "sepal_length    5.843333\n",
       "sepal_width     3.057333\n",
       "petal_length    3.758000\n",
       "petal_width     1.199333\n",
       "dtype: float64"
      ]
     },
     "execution_count": 14,
     "metadata": {},
     "output_type": "execute_result"
    }
   ],
   "source": [
    "np.mean(l)"
   ]
  },
  {
   "cell_type": "code",
   "execution_count": 15,
   "id": "f9faa025-d81d-4029-85b9-566d8b584584",
   "metadata": {},
   "outputs": [
    {
     "data": {
      "text/plain": [
       "'Q12. For a normal distribution data what is the relationship between its measure of central tendency?'"
      ]
     },
     "execution_count": 15,
     "metadata": {},
     "output_type": "execute_result"
    }
   ],
   "source": [
    "'''Q12. For a normal distribution data what is the relationship between its measure of central tendency?'''"
   ]
  },
  {
   "cell_type": "code",
   "execution_count": 17,
   "id": "90894792-dc5d-4478-aca8-200ba53427c7",
   "metadata": {},
   "outputs": [
    {
     "data": {
      "text/plain": [
       "'For a Normal distribution which is symmetry and unbaised towards any side mean, median and mode are perfectly at \\nthe centre.'"
      ]
     },
     "execution_count": 17,
     "metadata": {},
     "output_type": "execute_result"
    }
   ],
   "source": [
    "'''For a Normal distribution which is symmetry and unbaised towards any side mean, median and mode are perfectly at \n",
    "the centre.'''"
   ]
  },
  {
   "cell_type": "code",
   "execution_count": 18,
   "id": "900d2801-9f82-4626-9291-36d6d7a1fe81",
   "metadata": {},
   "outputs": [
    {
     "data": {
      "text/plain": [
       "'Q13. How is covariance different from correlation?'"
      ]
     },
     "execution_count": 18,
     "metadata": {},
     "output_type": "execute_result"
    }
   ],
   "source": [
    "'''Q13. How is covariance different from correlation?'''"
   ]
  },
  {
   "cell_type": "code",
   "execution_count": 19,
   "id": "c12e44fe-c747-449e-aa8f-fd50e631d8df",
   "metadata": {},
   "outputs": [
    {
     "data": {
      "text/plain": [
       "'covariance and correlation both are used to find the relation between two variable in statistics but they differ\\nas:\\nvariance is covariance in (x,x).Covariance measures the degree to which two random variables vary together. It shows the directional relationship between two variables.\\nIt can take on any value, positive, negative, or zero, indicating the direction of the relationship between the variables.If it is \\npositive the variable increases or decreases with each other.\\nIf negative it is inversely related to each other.'"
      ]
     },
     "execution_count": 19,
     "metadata": {},
     "output_type": "execute_result"
    }
   ],
   "source": [
    "'''covariance and correlation both are used to find the relation between two variable in statistics but they differ\n",
    "as:\n",
    "variance is covariance in (x,x).Covariance measures the degree to which two random variables vary together. It shows the directional relationship between two variables.\n",
    "It can take on any value, positive, negative, or zero, indicating the direction of the relationship between the variables.If it is \n",
    "positive the variable increases or decreases with each other.\n",
    "If negative it is inversely related to each other.'''"
   ]
  },
  {
   "cell_type": "code",
   "execution_count": 20,
   "id": "3204965c-1ea3-4dab-a996-2df6da11c91f",
   "metadata": {},
   "outputs": [
    {
     "data": {
      "text/plain": [
       "'Q14. How do outliers affect measures of central tendency and dispersion? Provide an example.'"
      ]
     },
     "execution_count": 20,
     "metadata": {},
     "output_type": "execute_result"
    }
   ],
   "source": [
    "'''Q14. How do outliers affect measures of central tendency and dispersion? Provide an example.'''"
   ]
  },
  {
   "cell_type": "code",
   "execution_count": 22,
   "id": "ff7ab532-c3e1-4efc-b50d-bcc7f7e7a61f",
   "metadata": {},
   "outputs": [
    {
     "data": {
      "text/plain": [
       "'ouliner is the element of the data which is does not fit normal distribution.\\nExample: [1,2,3,4,5,100] here 100 is outliner.when we have outliner median is prefered  as if 100 were not not \\navilable we have median =3 and after 100 is added w have median=(3+4)/2=3.5. There is only .5 shift>But for mean the shift\\nis quite noticeable.'"
      ]
     },
     "execution_count": 22,
     "metadata": {},
     "output_type": "execute_result"
    }
   ],
   "source": [
    "'''ouliner is the element of the data which is does not fit normal distribution.\n",
    "Example: [1,2,3,4,5,100] here 100 is outliner.when we have outliner median is prefered  as if 100 were not not \n",
    "avilable we have median =3 and after 100 is added w have median=(3+4)/2=3.5. There is only .5 shift>But for mean the shift\n",
    "is quite noticeable.'''"
   ]
  },
  {
   "cell_type": "code",
   "execution_count": null,
   "id": "ecb5e8a9-fb57-403d-8a03-82f80d1bfdb6",
   "metadata": {},
   "outputs": [],
   "source": []
  }
 ],
 "metadata": {
  "kernelspec": {
   "display_name": "Python 3 (ipykernel)",
   "language": "python",
   "name": "python3"
  },
  "language_info": {
   "codemirror_mode": {
    "name": "ipython",
    "version": 3
   },
   "file_extension": ".py",
   "mimetype": "text/x-python",
   "name": "python",
   "nbconvert_exporter": "python",
   "pygments_lexer": "ipython3",
   "version": "3.10.8"
  }
 },
 "nbformat": 4,
 "nbformat_minor": 5
}
