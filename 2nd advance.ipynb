{
 "cells": [
  {
   "cell_type": "code",
   "execution_count": 1,
   "id": "2a98110a-bc7a-43f6-9034-4eb3887014ff",
   "metadata": {},
   "outputs": [
    {
     "data": {
      "text/plain": [
       "'Q1: What are the Probability Mass Function (PMF) and Probability Density Function (PDF)? Explain with\\nan example.'"
      ]
     },
     "execution_count": 1,
     "metadata": {},
     "output_type": "execute_result"
    }
   ],
   "source": [
    "'''Q1: What are the Probability Mass Function (PMF) and Probability Density Function (PDF)? Explain with\n",
    "an example.'''"
   ]
  },
  {
   "cell_type": "code",
   "execution_count": 1,
   "id": "57d46ec1-796d-4011-a8e9-fb963df4b359",
   "metadata": {},
   "outputs": [
    {
     "data": {
      "text/plain": [
       "'PMF is the probablity distribution on a discrete random value.The otcome of the probablity is fixed and for discrete values only.\\nExample : When we roll a dice six times. We have outcome is likely to be same that is 1/6 for 1,2,3,4,5,and 6.\\nIn pdf we have contionous random variable.The probablity density is at every instance within a range.\\nexample: The weight or age of a population.\\nThis PDF formula represents the bell-shaped curve of the normal distribution. For any specific height x, the PDF gives \\nthe probability density at that point, not the probability of getting exactly that value (as the probability for a specific value in a continuous distribution is technically zero). \\nInstead, the area under the curve within a range of values represents probabilities.'"
      ]
     },
     "execution_count": 1,
     "metadata": {},
     "output_type": "execute_result"
    }
   ],
   "source": [
    "'''PMF is the probablity distribution on a discrete random value.The otcome of the probablity is fixed and for discrete values only.\n",
    "Example : When we roll a dice six times. We have outcome is likely to be same that is 1/6 for 1,2,3,4,5,and 6.\n",
    "In pdf we have contionous random variable.The probablity density is at every instance within a range.\n",
    "example: The weight or age of a population.\n",
    "This PDF formula represents the bell-shaped curve of the normal distribution. For any specific height x, the PDF gives \n",
    "the probability density at that point, not the probability of getting exactly that value (as the probability for a specific value in a continuous distribution is technically zero). \n",
    "Instead, the area under the curve within a range of values represents probabilities.'''"
   ]
  },
  {
   "cell_type": "code",
   "execution_count": 2,
   "id": "d79f6f9c-7ecb-4811-8224-1233afccb3e9",
   "metadata": {},
   "outputs": [
    {
     "data": {
      "text/plain": [
       "'Q2: What is Cumulative Density Function (CDF)? Explain with an example. Why CDF is used?'"
      ]
     },
     "execution_count": 2,
     "metadata": {},
     "output_type": "execute_result"
    }
   ],
   "source": [
    "'''Q2: What is Cumulative Density Function (CDF)? Explain with an example. Why CDF is used?'''"
   ]
  },
  {
   "cell_type": "code",
   "execution_count": 3,
   "id": "0a83e123-4a73-4971-83af-162eee956d56",
   "metadata": {},
   "outputs": [
    {
     "data": {
      "text/plain": [
       "'The Cumulative Distribution Function (CDF) is used to find the probabality at a given point in random variable\\nx that takes the value less than or equal to x.\\nexample: Lets consider a dice. The cdf of getting 1=1/6\\n                                The cdf of getting 2=2/6\\n                                The cdf of getting 3=3/6\\n                                The cdf of getting 4=4/6\\n                                The cdf of getting 5=5/6\\n                                The cdf of getting 6=6/6'"
      ]
     },
     "execution_count": 3,
     "metadata": {},
     "output_type": "execute_result"
    }
   ],
   "source": [
    "'''The Cumulative Distribution Function (CDF) is used to find the probabality at a given point in random variable\n",
    "x that takes the value less than or equal to x.\n",
    "example: Lets consider a dice. The cdf of getting 1=1/6\n",
    "                                The cdf of getting 2=2/6\n",
    "                                The cdf of getting 3=3/6\n",
    "                                The cdf of getting 4=4/6\n",
    "                                The cdf of getting 5=5/6\n",
    "                                The cdf of getting 6=6/6'''\n",
    "                                "
   ]
  },
  {
   "cell_type": "code",
   "execution_count": 4,
   "id": "90087871-e7d0-4a63-8911-c640bd63dff4",
   "metadata": {},
   "outputs": [
    {
     "data": {
      "text/plain": [
       "'Q3: What are some examples of situations where the normal distribution might be used as a model?\\nExplain how the parameters of the normal distribution relate to the shape of the distribution.'"
      ]
     },
     "execution_count": 4,
     "metadata": {},
     "output_type": "execute_result"
    }
   ],
   "source": [
    "'''Q3: What are some examples of situations where the normal distribution might be used as a model?\n",
    "Explain how the parameters of the normal distribution relate to the shape of the distribution.'''"
   ]
  },
  {
   "cell_type": "code",
   "execution_count": 5,
   "id": "b0c0f4e2-aac8-4dac-b8a2-cf199a1e2855",
   "metadata": {},
   "outputs": [
    {
     "data": {
      "text/plain": [
       "'Normal distribution is a bell shaped curve. It is also known gaussian distribution. It can be used \\nin multiple domain as model like distribution of height,weight,age, in fiancial field and etc.\\nIt has two parametre mean and standard deviation.\\nWhen mean increase or decreases the curve shift right or left respectively on x axis.The shape of the curve remain unchanged.\\nStabdard deviation detrimes the narrowness and wide of the curve.'"
      ]
     },
     "execution_count": 5,
     "metadata": {},
     "output_type": "execute_result"
    }
   ],
   "source": [
    "'''Normal distribution is a bell shaped curve. It is also known gaussian distribution. It can be used \n",
    "in multiple domain as model like distribution of height,weight,age, in fiancial field and etc.\n",
    "It has two parametre mean and standard deviation.\n",
    "When mean increase or decreases the curve shift right or left respectively on x axis.The shape of the curve remain unchanged.\n",
    "Stabdard deviation detrimes the narrowness and wide of the curve.'''"
   ]
  },
  {
   "cell_type": "code",
   "execution_count": 6,
   "id": "dcf54aa8-1f68-4f87-97b9-1c11985ddc79",
   "metadata": {},
   "outputs": [
    {
     "data": {
      "text/plain": [
       "'Q4: Explain the importance of Normal Distribution. Give a few real-life examples of Normal\\nDistribution.'"
      ]
     },
     "execution_count": 6,
     "metadata": {},
     "output_type": "execute_result"
    }
   ],
   "source": [
    "'''Q4: Explain the importance of Normal Distribution. Give a few real-life examples of Normal\n",
    "Distribution.'''"
   ]
  },
  {
   "cell_type": "code",
   "execution_count": 7,
   "id": "ce69afc6-925d-4819-8fa0-58c8be0831c7",
   "metadata": {},
   "outputs": [
    {
     "data": {
      "text/plain": [
       "'The normal distribution model can be used at many place becuase of its properties of estimating data is multi diciplianary.\\nIt fits in every field of data distribution like height distribution, age distribution and in financial field.\\nMany statistical methods, such as hypothesis testing, confidence intervals, and regression analysis, rely on the assumption of normality. Normal distributions facilitate\\neasier probability calculations and allow for the use of standardized statistical tests.'"
      ]
     },
     "execution_count": 7,
     "metadata": {},
     "output_type": "execute_result"
    }
   ],
   "source": [
    "'''The normal distribution model can be used at many place becuase of its properties of estimating data is multi diciplianary.\n",
    "It fits in every field of data distribution like height distribution, age distribution and in financial field.\n",
    "Many statistical methods, such as hypothesis testing, confidence intervals, and regression analysis, rely on the assumption of normality. Normal distributions facilitate\n",
    "easier probability calculations and allow for the use of standardized statistical tests.'''"
   ]
  },
  {
   "cell_type": "code",
   "execution_count": 8,
   "id": "b0dc455f-0d1e-494b-8bbb-ac902a2e149b",
   "metadata": {},
   "outputs": [
    {
     "data": {
      "text/plain": [
       "'Q5: What is Bernaulli Distribution? Give an Example. What is the difference between Bernoulli\\nDistribution and Binomial Distribution?'"
      ]
     },
     "execution_count": 8,
     "metadata": {},
     "output_type": "execute_result"
    }
   ],
   "source": [
    "'''Q5: What is Bernaulli Distribution? Give an Example. What is the difference between Bernoulli\n",
    "Distribution and Binomial Distribution?'''"
   ]
  },
  {
   "cell_type": "code",
   "execution_count": 9,
   "id": "2cffb118-9294-4cd3-bf30-73602f4ecb7a",
   "metadata": {},
   "outputs": [
    {
     "data": {
      "text/plain": [
       "\"The Bernoulli distribution is a discrete probability distribution that represents the outcomes of a random experiment or\\ntrial with two possible outcomes: success (usually denoted as 1) or failure (usually denoted as 0). \\nIt's named after Swiss mathematician Jacob Bernoulli.\\n\\np is the probability of success.\\n\\n1−p is the probability of failure.\\nBinomial Distribution: Describes the number of successes in a fixed number of independent Bernoulli trials (experiments). It represents the sum of outcomes from multiple independent Bernoulli trials.\\n\\nIn a Binomial distribution:\\n\\nThere are a fixed number of trials, denoted as \\nn.\\nEach trial is independent and has the same probability of success, denoted as \\np.\\nThe random variable \\nX represents the number of successes in \\nn trials.\""
      ]
     },
     "execution_count": 9,
     "metadata": {},
     "output_type": "execute_result"
    }
   ],
   "source": [
    "'''The Bernoulli distribution is a discrete probability distribution that represents the outcomes of a random experiment or\n",
    "trial with two possible outcomes: success (usually denoted as 1) or failure (usually denoted as 0). \n",
    "It's named after Swiss mathematician Jacob Bernoulli.\n",
    "\n",
    "p is the probability of success.\n",
    "\n",
    "1−p is the probability of failure.\n",
    "Binomial Distribution: Describes the number of successes in a fixed number of independent Bernoulli trials (experiments). It represents the sum of outcomes from multiple independent Bernoulli trials.\n",
    "\n",
    "In a Binomial distribution:\n",
    "\n",
    "There are a fixed number of trials, denoted as \n",
    "n.\n",
    "Each trial is independent and has the same probability of success, denoted as \n",
    "p.\n",
    "The random variable \n",
    "X represents the number of successes in \n",
    "n trials.'''"
   ]
  },
  {
   "cell_type": "code",
   "execution_count": 10,
   "id": "8d7f69a4-802f-40d4-935a-39080403ff9f",
   "metadata": {},
   "outputs": [
    {
     "data": {
      "text/plain": [
       "'Q6. Consider a dataset with a mean of 50 and a standard deviation of 10. If we assume that the dataset\\nis normally distributed, what is the probability that a randomly selected observation will be greater\\nthan 60? Use the appropriate formula and show your calculations.'"
      ]
     },
     "execution_count": 10,
     "metadata": {},
     "output_type": "execute_result"
    }
   ],
   "source": [
    "'''Q6. Consider a dataset with a mean of 50 and a standard deviation of 10. If we assume that the dataset\n",
    "is normally distributed, what is the probability that a randomly selected observation will be greater\n",
    "than 60? Use the appropriate formula and show your calculations.'''"
   ]
  },
  {
   "cell_type": "code",
   "execution_count": 11,
   "id": "249f808a-85c9-453b-ac66-388b4b3dcc08",
   "metadata": {},
   "outputs": [
    {
     "data": {
      "text/plain": [
       "'we have mean=50 and standard deviation=10 x=60 \\nusing Z test we have z value=(60-50)/10=1(z=(x-u)/Stddev)\\nnow area under z=1 is 0.8413 \\nso the probablity 84.13%'"
      ]
     },
     "execution_count": 11,
     "metadata": {},
     "output_type": "execute_result"
    }
   ],
   "source": [
    "'''we have mean=50 and standard deviation=10 x=60 \n",
    "using Z test we have z value=(60-50)/10=1(z=(x-u)/Stddev)\n",
    "now area under z=1 is 0.8413 \n",
    "so the probablity 84.13%'''"
   ]
  },
  {
   "cell_type": "code",
   "execution_count": 12,
   "id": "e6f7cf69-56b3-497f-8d12-c10c320b43cb",
   "metadata": {},
   "outputs": [
    {
     "data": {
      "text/plain": [
       "'Q7: Explain uniform Distribution with an example.'"
      ]
     },
     "execution_count": 12,
     "metadata": {},
     "output_type": "execute_result"
    }
   ],
   "source": [
    "'''Q7: Explain uniform Distribution with an example.'''"
   ]
  },
  {
   "cell_type": "code",
   "execution_count": 13,
   "id": "738e33b4-48ce-42c8-b70b-1e225ecb4305",
   "metadata": {},
   "outputs": [
    {
     "data": {
      "text/plain": [
       "\"The uniform distribution is a type of probability distribution where all outcomes within a given range\\nare equally likely to occur. It's characterized by a constant \\nprobability density function (PDF) over a specified interval.\\nConsider a situation where a fair six-sided die is rolled. Each face of the die (1, 2, 3, 4, 5, or 6) has an equal probability of \\noccurring, assuming the die is not biased. This scenario follows a discrete uniform distribution, as each outcome has an equal\\nprobability of \\n1/6 because there are six equally likely outcomes.\""
      ]
     },
     "execution_count": 13,
     "metadata": {},
     "output_type": "execute_result"
    }
   ],
   "source": [
    "'''The uniform distribution is a type of probability distribution where all outcomes within a given range\n",
    "are equally likely to occur. It's characterized by a constant \n",
    "probability density function (PDF) over a specified interval.\n",
    "Consider a situation where a fair six-sided die is rolled. Each face of the die (1, 2, 3, 4, 5, or 6) has an equal probability of \n",
    "occurring, assuming the die is not biased. This scenario follows a discrete uniform distribution, as each outcome has an equal\n",
    "probability of \n",
    "1/6 because there are six equally likely outcomes.'''"
   ]
  },
  {
   "cell_type": "code",
   "execution_count": 14,
   "id": "d92f8ffb-5aa0-495d-8d22-f8647404d838",
   "metadata": {},
   "outputs": [
    {
     "data": {
      "text/plain": [
       "'Q8: What is the z score? State the importance of the z score.'"
      ]
     },
     "execution_count": 14,
     "metadata": {},
     "output_type": "execute_result"
    }
   ],
   "source": [
    "'''Q8: What is the z score? State the importance of the z score.'''"
   ]
  },
  {
   "cell_type": "code",
   "execution_count": 15,
   "id": "ab67ebeb-61e2-4fa5-b114-2e8a4cbd1463",
   "metadata": {},
   "outputs": [
    {
     "data": {
      "text/plain": [
       "'Z score is also known as standard score quantifies the number of standard deviations a data point is from the mean of a dataset. \\nIt standardizes data and allows for the comparison of values from different\\ndistributions.\\nImportance of the z-score:\\n\\nStandardization: It standardizes data, allowing for the comparison of data points from different distributions on a common scale. \\nThis enables analysts to identify outliers, anomalies, or extreme values in a dataset regardless of the original measurement scales.\\n\\nNormalization: The z-score helps in normalizing distributions, making it easier to interpret and work with data that might have\\ndifferent means and standard deviations.\\n\\nIdentifying Outliers: Values with z-scores that are significantly higher or lower than zero (typically above 3 or below -3) \\nare often considered outliers, indicating unusual or rare occurrences within the dataset.\\n\\nHypothesis Testing: In statistical hypothesis testing, the z-score is used to determine the significance of results. \\nIt helps in calculating probabilities and critical values, particularly when working with the standard normal distribution.\\n\\nPredictive Modeling: In machine learning and predictive analytics, z-scores are utilized to preprocess data for various algorithms, \\nensuring that features are on similar scales, which can improve model performance.\\n\\nStandard Normal Distribution: Z-scores are directly related to the standard normal distribution. \\nWhen data is standardized to have a mean of zero and a standard deviation of one, \\nit follows the standard normal distribution, simplifying calculations and statistical analyses.'"
      ]
     },
     "execution_count": 15,
     "metadata": {},
     "output_type": "execute_result"
    }
   ],
   "source": [
    "'''Z score is also known as standard score quantifies the number of standard deviations a data point is from the mean of a dataset. \n",
    "It standardizes data and allows for the comparison of values from different\n",
    "distributions.\n",
    "Importance of the z-score:\n",
    "\n",
    "Standardization: It standardizes data, allowing for the comparison of data points from different distributions on a common scale. \n",
    "This enables analysts to identify outliers, anomalies, or extreme values in a dataset regardless of the original measurement scales.\n",
    "\n",
    "Normalization: The z-score helps in normalizing distributions, making it easier to interpret and work with data that might have\n",
    "different means and standard deviations.\n",
    "\n",
    "Identifying Outliers: Values with z-scores that are significantly higher or lower than zero (typically above 3 or below -3) \n",
    "are often considered outliers, indicating unusual or rare occurrences within the dataset.\n",
    "\n",
    "Hypothesis Testing: In statistical hypothesis testing, the z-score is used to determine the significance of results. \n",
    "It helps in calculating probabilities and critical values, particularly when working with the standard normal distribution.\n",
    "\n",
    "Predictive Modeling: In machine learning and predictive analytics, z-scores are utilized to preprocess data for various algorithms, \n",
    "ensuring that features are on similar scales, which can improve model performance.\n",
    "\n",
    "Standard Normal Distribution: Z-scores are directly related to the standard normal distribution. \n",
    "When data is standardized to have a mean of zero and a standard deviation of one, \n",
    "it follows the standard normal distribution, simplifying calculations and statistical analyses.'''"
   ]
  },
  {
   "cell_type": "code",
   "execution_count": 17,
   "id": "7bbf1cc7-7dcd-4994-9a39-001a13e69298",
   "metadata": {},
   "outputs": [
    {
     "data": {
      "text/plain": [
       "'Q9: What is Central Limit Theorem? State the significance of the Central Limit Theorem.'"
      ]
     },
     "execution_count": 17,
     "metadata": {},
     "output_type": "execute_result"
    }
   ],
   "source": [
    "'''Q9: What is Central Limit Theorem? State the significance of the Central Limit Theorem.'''"
   ]
  },
  {
   "cell_type": "code",
   "execution_count": 18,
   "id": "17957d0e-fc70-4c1d-bb05-a06226013608",
   "metadata": {},
   "outputs": [
    {
     "data": {
      "text/plain": [
       "'The Central Limit Theorem states that the distribution of the sample means of a random variable approaches a normal \\ndistribution as the sample size increases, regardless of the original distribution of the population from which the samples are \\ndrawn, provided that the samples are independently \\nand identically distributed .\\nthe Central Limit Theorem is a critical concept in statistics that enables the use of normal distribution-based methods for \\ninference and analysis, even when dealing with non-normally distributed populations, \\nthereby making statistical analysis more practical and widely applicable in various fields.'"
      ]
     },
     "execution_count": 18,
     "metadata": {},
     "output_type": "execute_result"
    }
   ],
   "source": [
    "'''The Central Limit Theorem states that the distribution of the sample means of a random variable approaches a normal \n",
    "distribution as the sample size increases, regardless of the original distribution of the population from which the samples are \n",
    "drawn, provided that the samples are independently \n",
    "and identically distributed .\n",
    "the Central Limit Theorem is a critical concept in statistics that enables the use of normal distribution-based methods for \n",
    "inference and analysis, even when dealing with non-normally distributed populations, \n",
    "thereby making statistical analysis more practical and widely applicable in various fields.'''"
   ]
  },
  {
   "cell_type": "code",
   "execution_count": 19,
   "id": "1e8ae0cb-cb1f-47b1-a10f-d6be2cc19cca",
   "metadata": {},
   "outputs": [
    {
     "data": {
      "text/plain": [
       "'Q10: State the assumptions of the Central Limit Theorem.'"
      ]
     },
     "execution_count": 19,
     "metadata": {},
     "output_type": "execute_result"
    }
   ],
   "source": [
    "'''Q10: State the assumptions of the Central Limit Theorem.'''"
   ]
  },
  {
   "cell_type": "code",
   "execution_count": 20,
   "id": "e647795a-93a1-4921-b5be-2275654060d7",
   "metadata": {},
   "outputs": [
    {
     "data": {
      "text/plain": [
       "\"\\nThe Central Limit Theorem (CLT) is a fundamental theorem in statistics, but it relies on certain assumptions to hold true.\\nThe assumptions of the Central Limit Theorem are as follows:\\n\\nIndependence: The sampled observations must be independent of each other. In other words, the selection of one observation \\nshould not influence the selection of another. \\nThis assumption is crucial to ensure that each sample contributes unique information.\\n\\nRandom Sampling: Observations should be selected randomly from the population. Random sampling ensures that each member of\\nthe population has an equal chance of being included in the sample, avoiding biases in the estimation of parameters.\\n\\nSample Size: While the CLT doesn't specify an exact minimum sample size, it generally requires a sufficiently large sample size.\\nIn practice, a sample size greater than 30 is often considered large enough for the CLT to apply, but the exact threshold may \\nvary based on the nature of the population distribution.\\n\\nFinite Variance: The underlying population should have a finite variance. While the CLT can sometimes work with distributions \\nthat have infinite variances (like some heavy-tailed distributions), the finite variance assumption helps ensure that the \\nsample means' distribution converges to a normal distribution.\\n\\nIdentically Distributed Samples: The samples taken from the population should have the same distribution and variance. \\nThis assumption ensures consistency in the behavior of each sample and facilitates the convergence to a normal distribution.\""
      ]
     },
     "execution_count": 20,
     "metadata": {},
     "output_type": "execute_result"
    }
   ],
   "source": [
    "'''\n",
    "The Central Limit Theorem (CLT) is a fundamental theorem in statistics, but it relies on certain assumptions to hold true.\n",
    "The assumptions of the Central Limit Theorem are as follows:\n",
    "\n",
    "Independence: The sampled observations must be independent of each other. In other words, the selection of one observation \n",
    "should not influence the selection of another. \n",
    "This assumption is crucial to ensure that each sample contributes unique information.\n",
    "\n",
    "Random Sampling: Observations should be selected randomly from the population. Random sampling ensures that each member of\n",
    "the population has an equal chance of being included in the sample, avoiding biases in the estimation of parameters.\n",
    "\n",
    "Sample Size: While the CLT doesn't specify an exact minimum sample size, it generally requires a sufficiently large sample size.\n",
    "In practice, a sample size greater than 30 is often considered large enough for the CLT to apply, but the exact threshold may \n",
    "vary based on the nature of the population distribution.\n",
    "\n",
    "Finite Variance: The underlying population should have a finite variance. While the CLT can sometimes work with distributions \n",
    "that have infinite variances (like some heavy-tailed distributions), the finite variance assumption helps ensure that the \n",
    "sample means' distribution converges to a normal distribution.\n",
    "\n",
    "Identically Distributed Samples: The samples taken from the population should have the same distribution and variance. \n",
    "This assumption ensures consistency in the behavior of each sample and facilitates the convergence to a normal distribution.'''"
   ]
  },
  {
   "cell_type": "code",
   "execution_count": null,
   "id": "57e41b16-679c-4457-b9d2-b72403edda0d",
   "metadata": {},
   "outputs": [],
   "source": []
  }
 ],
 "metadata": {
  "kernelspec": {
   "display_name": "Python 3 (ipykernel)",
   "language": "python",
   "name": "python3"
  },
  "language_info": {
   "codemirror_mode": {
    "name": "ipython",
    "version": 3
   },
   "file_extension": ".py",
   "mimetype": "text/x-python",
   "name": "python",
   "nbconvert_exporter": "python",
   "pygments_lexer": "ipython3",
   "version": "3.10.8"
  }
 },
 "nbformat": 4,
 "nbformat_minor": 5
}
