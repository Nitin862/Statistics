{
 "cells": [
  {
   "cell_type": "code",
   "execution_count": 1,
   "id": "6262fc64-1e74-409f-bedd-892464dcaedf",
   "metadata": {},
   "outputs": [
    {
     "data": {
      "text/plain": [
       "'Q1. What is the Probability density function?'"
      ]
     },
     "execution_count": 1,
     "metadata": {},
     "output_type": "execute_result"
    }
   ],
   "source": [
    "'''Q1. What is the Probability density function?'''"
   ]
  },
  {
   "cell_type": "code",
   "execution_count": 3,
   "id": "58ea5972-3479-45f3-b60e-ad8bae56398c",
   "metadata": {},
   "outputs": [
    {
     "data": {
      "text/plain": [
       "\"It describes the likelihood of happening a continuous random variable on a particular value within a range.It is \\nusually represented by PDF.The PDF doesn't directly give the probability of a single point but rather the probability density at that point.\""
      ]
     },
     "execution_count": 3,
     "metadata": {},
     "output_type": "execute_result"
    }
   ],
   "source": [
    "'''It describes the likelihood of happening a continuous random variable on a particular value within a range.It is \n",
    "usually represented by PDF.The PDF doesn't directly give the probability of a single point but rather the probability density at that point.'''"
   ]
  },
  {
   "cell_type": "code",
   "execution_count": 4,
   "id": "a152b2bd-46a6-4865-9320-8d7ff56b6624",
   "metadata": {},
   "outputs": [
    {
     "data": {
      "text/plain": [
       "'Q2. What are the types of Probability distribution?'"
      ]
     },
     "execution_count": 4,
     "metadata": {},
     "output_type": "execute_result"
    }
   ],
   "source": [
    "'''Q2. What are the types of Probability distribution?'''"
   ]
  },
  {
   "cell_type": "code",
   "execution_count": 5,
   "id": "23a400f9-3a18-4969-adcf-43cdf2eb92b9",
   "metadata": {},
   "outputs": [
    {
     "data": {
      "text/plain": [
       "'Types of probablity distribtion are :\\n1.Normal /Gaussian distribution\\n2.Bernauli Diatribution  (Outcomes are binary)\\n3. Uniform distribution\\n4. Poisson distribution\\n5.Log Normal Distribution\\n6. Binomial Distribution'"
      ]
     },
     "execution_count": 5,
     "metadata": {},
     "output_type": "execute_result"
    }
   ],
   "source": [
    "'''Types of probablity distribtion are :\n",
    "1.Normal /Gaussian distribution\n",
    "2.Bernauli Diatribution  (Outcomes are binary)\n",
    "3. Uniform distribution\n",
    "4. Poisson distribution\n",
    "5.Log Normal Distribution\n",
    "6. Binomial Distribution'''"
   ]
  },
  {
   "cell_type": "code",
   "execution_count": 6,
   "id": "556df54a-f5ac-4923-9c58-c5053063bf36",
   "metadata": {},
   "outputs": [
    {
     "data": {
      "text/plain": [
       "'Q3. Write a Python function to calculate the probability density function of a normal distribution with\\ngiven mean and standard deviation at a given point.'"
      ]
     },
     "execution_count": 6,
     "metadata": {},
     "output_type": "execute_result"
    }
   ],
   "source": [
    "'''Q3. Write a Python function to calculate the probability density function of a normal distribution with\n",
    "given mean and standard deviation at a given point.'''\n"
   ]
  },
  {
   "cell_type": "code",
   "execution_count": 7,
   "id": "7257b23e-7a28-4e4f-b9db-23428d583b65",
   "metadata": {},
   "outputs": [],
   "source": [
    "from scipy.stats import norm\n",
    "def pdf_cal():\n",
    "    x=float(input(\"Enter the value of x at which you want to Calculate pdf\"))\n",
    "    mean=float(input(\"Enter the value of mean\"))\n",
    "    std_dev=float(input(\"Enter the value of std_dev\"))\n",
    "    pdf_value = norm.pdf(x, loc=mean, scale=std_dev)\n",
    "    print(pdf_value)"
   ]
  },
  {
   "cell_type": "code",
   "execution_count": 8,
   "id": "8a38fc53-eae2-47a3-a655-8f401b0d6295",
   "metadata": {},
   "outputs": [
    {
     "name": "stdin",
     "output_type": "stream",
     "text": [
      "Enter the value of x at which you want to Calculate pdf 4\n",
      "Enter the value of mean 67.9\n",
      "Enter the value of std_dev 45\n"
     ]
    },
    {
     "name": "stdout",
     "output_type": "stream",
     "text": [
      "0.0032347584452743906\n"
     ]
    }
   ],
   "source": [
    "pdf_cal()"
   ]
  },
  {
   "cell_type": "code",
   "execution_count": 9,
   "id": "9587fe51-404e-45dc-aa93-d8e19591c634",
   "metadata": {},
   "outputs": [
    {
     "data": {
      "text/plain": [
       "'Q4. What are the properties of Binomial distribution? Give two examples of events where binomial\\ndistribution can be applied.'"
      ]
     },
     "execution_count": 9,
     "metadata": {},
     "output_type": "execute_result"
    }
   ],
   "source": [
    "'''Q4. What are the properties of Binomial distribution? Give two examples of events where binomial\n",
    "distribution can be applied.'''"
   ]
  },
  {
   "cell_type": "code",
   "execution_count": 11,
   "id": "e6de54a2-4cd9-4941-8e61-433743baca1e",
   "metadata": {},
   "outputs": [
    {
     "data": {
      "text/plain": [
       "'in binomial distribution we calculate the probablity of certain number of sucess in n bernaulis trial. And each trial has only two outcomes.\\nExample : Tossing a coin 6 times (A coin has only two outcomes or a binomial outcomes head or tail)\\nGetting either a odd or even number when we spun a dice 6 times'"
      ]
     },
     "execution_count": 11,
     "metadata": {},
     "output_type": "execute_result"
    }
   ],
   "source": [
    "'''in binomial distribution we calculate the probablity of certain number of sucess in n bernaulis trial. And each trial has only two outcomes.\n",
    "Example : Tossing a coin 6 times (A coin has only two outcomes or a binomial outcomes head or tail)\n",
    "Getting either a odd or even number when we spun a dice 6 times'''"
   ]
  },
  {
   "cell_type": "code",
   "execution_count": 12,
   "id": "e9eeb8be-43f4-43a7-80e2-d66cee4f7382",
   "metadata": {},
   "outputs": [
    {
     "data": {
      "text/plain": [
       "'Q5. Generate a random sample of size 1000 from a binomial distribution with probability of success 0.4\\nand plot a histogram of the results using matplotlib.'"
      ]
     },
     "execution_count": 12,
     "metadata": {},
     "output_type": "execute_result"
    }
   ],
   "source": [
    "'''Q5. Generate a random sample of size 1000 from a binomial distribution with probability of success 0.4\n",
    "and plot a histogram of the results using matplotlib.'''"
   ]
  },
  {
   "cell_type": "code",
   "execution_count": 15,
   "id": "421093d0-ddcf-4acb-bb09-4d347c07eec6",
   "metadata": {},
   "outputs": [
    {
     "data": {
      "image/png": "[encoded data removed]",
      "text/plain": [
       "<Figure size 800x600 with 1 Axes>"
      ]
     },
     "metadata": {},
     "output_type": "display_data"
    }
   ],
   "source": [
    "import numpy as np\n",
    "import matplotlib.pyplot as plt\n",
    "\n",
    "# Parameters\n",
    "probability_success = 0.4  # Probability of success\n",
    "sample_size = 1000  # Sample size\n",
    "\n",
    "# Generate random sample from a binomial distribution\n",
    "random_sample = np.random.binomial(1, probability_success, sample_size)\n",
    "\n",
    "# Plotting the histogram\n",
    "plt.figure(figsize=(8, 6))\n",
    "plt.hist(random_sample)\n",
    "plt.title(f\"Histogram of Binomial Distribution (n=1, p={probability_success})\")\n",
    "\n",
    "plt.show()"
   ]
  },
  {
   "cell_type": "code",
   "execution_count": 17,
   "id": "8ee3f2d0-18d5-4ef3-a2bb-caa766031321",
   "metadata": {},
   "outputs": [
    {
     "data": {
      "text/plain": [
       "'Q6. Write a Python function to calculate the cumulative distribution function of a Poisson distribution\\nwith given mean at a given point.'"
      ]
     },
     "execution_count": 17,
     "metadata": {},
     "output_type": "execute_result"
    }
   ],
   "source": [
    "'''Q6. Write a Python function to calculate the cumulative distribution function of a Poisson distribution\n",
    "with given mean at a given point.'''"
   ]
  },
  {
   "cell_type": "code",
   "execution_count": 18,
   "id": "188dc917-c906-4698-b46b-8e23cf4e35c2",
   "metadata": {},
   "outputs": [],
   "source": [
    "import math"
   ]
  },
  {
   "cell_type": "code",
   "execution_count": 23,
   "id": "f7e1af54-1711-4ae7-a3ae-e3aad1a3fa8e",
   "metadata": {},
   "outputs": [],
   "source": [
    "def cal_poisson() :\n",
    "    x=int(input(\"Enter the value of x at which the cdf is to calculate\"))\n",
    "    mean=float(input(\"Enter the value of mean\"))\n",
    "    cdf_value=0\n",
    "    for i in range(x + 1):\n",
    "        cdf_value += (math.exp(-mean) * (mean ** i)) / math.factorial(i)\n",
    "    return cdf_value"
   ]
  },
  {
   "cell_type": "code",
   "execution_count": 24,
   "id": "0984dc47-ea7e-4135-8854-33cc256f7c33",
   "metadata": {},
   "outputs": [
    {
     "name": "stdin",
     "output_type": "stream",
     "text": [
      "Enter the value of x at which the cdf is to calculate 5\n",
      "Enter the value of mean 23\n"
     ]
    },
    {
     "data": {
      "text/plain": [
       "6.938320207237528e-06"
      ]
     },
     "execution_count": 24,
     "metadata": {},
     "output_type": "execute_result"
    }
   ],
   "source": [
    "cal_poisson()"
   ]
  },
  {
   "cell_type": "code",
   "execution_count": 25,
   "id": "f633d29a-7fe6-4ae6-8608-b7f30a3d8c45",
   "metadata": {},
   "outputs": [
    {
     "data": {
      "text/plain": [
       "'Q7. How Binomial distribution different from Poisson distribution?'"
      ]
     },
     "execution_count": 25,
     "metadata": {},
     "output_type": "execute_result"
    }
   ],
   "source": [
    "'''Q7. How Binomial distribution different from Poisson distribution?'''"
   ]
  },
  {
   "cell_type": "code",
   "execution_count": 26,
   "id": "accd6649-273a-4409-bc8c-18cb9439ae4c",
   "metadata": {},
   "outputs": [
    {
     "data": {
      "text/plain": [
       "'1.Binomial distribution has a constant value of probablity but for poisson distribution the probablity is not constant.\\n2.Binomial Distribution: It is characterized by two parameters: the number of trials and the probability of success \\np).\\nPoisson Distribution: It is characterized by one parameter \\n representing the average rate of occurrence of events in a given interval.Ex no of people entering hospital every hour.'"
      ]
     },
     "execution_count": 26,
     "metadata": {},
     "output_type": "execute_result"
    }
   ],
   "source": [
    "'''1.Binomial distribution has a constant value of probablity but for poisson distribution the probablity is not constant.\n",
    "2.Binomial Distribution: It is characterized by two parameters: the number of trials and the probability of success \n",
    "p).\n",
    "Poisson Distribution: It is characterized by one parameter \n",
    " representing the average rate of occurrence of events in a given interval.Ex no of people entering hospital every hour.'''\n",
    " "
   ]
  },
  {
   "cell_type": "code",
   "execution_count": 27,
   "id": "16510849-847b-44cf-90c5-f6aac50b83b7",
   "metadata": {},
   "outputs": [
    {
     "data": {
      "text/plain": [
       "'Q8. Generate a random sample of size 1000 from a Poisson distribution with mean 5 and calculate the\\nsample mean and variance.'"
      ]
     },
     "execution_count": 27,
     "metadata": {},
     "output_type": "execute_result"
    }
   ],
   "source": [
    "'''Q8. Generate a random sample of size 1000 from a Poisson distribution with mean 5 and calculate the\n",
    "sample mean and variance.'''"
   ]
  },
  {
   "cell_type": "code",
   "execution_count": 29,
   "id": "b0581705-bb8e-4d75-aa6e-066affd6a757",
   "metadata": {},
   "outputs": [
    {
     "name": "stdout",
     "output_type": "stream",
     "text": [
      "The mean of the sample is 4.818 The variance of the sample is 4.850876\n"
     ]
    }
   ],
   "source": [
    "import numpy as np\n",
    "mean=5\n",
    "random=1000\n",
    "a=np.random.poisson(mean, random)\n",
    "print(f\"The mean of the sample is\", a.mean(), \"The variance of the sample is\",a.var() )"
   ]
  },
  {
   "cell_type": "code",
   "execution_count": 31,
   "id": "ba3149cf-e12f-4392-9c9b-40c88bcda61d",
   "metadata": {},
   "outputs": [
    {
     "data": {
      "text/plain": [
       "'Q9. How mean and variance are related in Binomial distribution and Poisson distribution?'"
      ]
     },
     "execution_count": 31,
     "metadata": {},
     "output_type": "execute_result"
    }
   ],
   "source": [
    "'''Q9. How mean and variance are related in Binomial distribution and Poisson distribution?'''"
   ]
  },
  {
   "cell_type": "code",
   "execution_count": 30,
   "id": "5dc883ce-01c6-4349-b093-b9ec2f579376",
   "metadata": {},
   "outputs": [
    {
     "data": {
      "text/plain": [
       "'If we have p and q no. of success probablity for each trial p belongs to [0,1] and q=1-p\\nmean=n*p (where n is no. of trial)\\nvariance=np(1-q)\\n=npq\\nvariance=mean*q'"
      ]
     },
     "execution_count": 30,
     "metadata": {},
     "output_type": "execute_result"
    }
   ],
   "source": [
    "'''If we have p and q no. of success probablity for each trial p belongs to [0,1] and q=1-p\n",
    "mean=n*p (where n is no. of trial)\n",
    "variance=np(1-q)\n",
    "=npq\n",
    "variance=mean*q'''"
   ]
  },
  {
   "cell_type": "code",
   "execution_count": 32,
   "id": "4fffd400-20de-4465-a4a2-4ba4fdd8d05a",
   "metadata": {},
   "outputs": [
    {
     "data": {
      "text/plain": [
       "'Q10. In normal distribution with respect to mean position, where does the least frequent data appear?'"
      ]
     },
     "execution_count": 32,
     "metadata": {},
     "output_type": "execute_result"
    }
   ],
   "source": [
    "'''Q10. In normal distribution with respect to mean position, where does the least frequent data appear?'''"
   ]
  },
  {
   "cell_type": "code",
   "execution_count": null,
   "id": "c37f94c9-7b7e-42b4-ab10-a3a59dfcaca8",
   "metadata": {},
   "outputs": [],
   "source": [
    "'''In normal distribution with respect to mean position the least position data appera at the tail of the curve from left and right of the mean.'''\n"
   ]
  }
 ],
 "metadata": {
  "kernelspec": {
   "display_name": "Python 3 (ipykernel)",
   "language": "python",
   "name": "python3"
  },
  "language_info": {
   "codemirror_mode": {
    "name": "ipython",
    "version": 3
   },
   "file_extension": ".py",
   "mimetype": "text/x-python",
   "name": "python",
   "nbconvert_exporter": "python",
   "pygments_lexer": "ipython3",
   "version": "3.10.8"
  }
 },
 "nbformat": 4,
 "nbformat_minor": 5
}
